{
 "cells": [
  {
   "cell_type": "code",
   "execution_count": null,
   "id": "e695d1c2",
   "metadata": {},
   "outputs": [],
   "source": [
    "# pip install pywebio"
   ]
  },
  {
   "cell_type": "code",
   "execution_count": 24,
   "id": "f64a09fe",
   "metadata": {},
   "outputs": [],
   "source": [
    "import pandas as pd\n",
    "import numpy as np\n",
    "# from matplotlib.pyplot as plt\n",
    "from pywebio.input import *\n",
    "from pywebio.output import *\n",
    "from pywebio.platform.flask import webio_view \n",
    "from flask import Flask\n",
    "\n",
    "from pywebio import STATIC_PATH\n",
    "import os\n"
   ]
  },
  {
   "cell_type": "markdown",
   "id": "99858d20",
   "metadata": {},
   "source": [
    "# DARK MODE"
   ]
  },
  {
   "cell_type": "code",
   "execution_count": 19,
   "id": "fdca8859",
   "metadata": {},
   "outputs": [],
   "source": [
    "def dark_mode_css():\n",
    "    css = \"\"\"\n",
    "    <style>\n",
    "    body {\n",
    "        background-color: #1a1a1a;\n",
    "        color: #ffffff;\n",
    "    }\n",
    "    </style>\n",
    "    \"\"\"\n",
    "    return css"
   ]
  },
  {
   "cell_type": "code",
   "execution_count": 4,
   "id": "cc5c88e9",
   "metadata": {},
   "outputs": [],
   "source": [
    "column_names = [\"movie id\", \"movie title\", \"release date\", \"video release date\",\n",
    "\"IMDb URL\", \"unknown\", \"Action\", \"Adventure\", \"Animation\",\n",
    "\"Children's\", \"Comedy\", \"Crime\", \"Documentary\", \"Drama\", \"Fantasy\",\n",
    "\"Film-Noir\", \"Horror\", \"Musical\", \"Mystery\", \"Romance\", \"Sci-Fi\",\n",
    "\"Thriller\", \"War\", \"Western\"]"
   ]
  },
  {
   "cell_type": "code",
   "execution_count": 5,
   "id": "e085717d",
   "metadata": {
    "scrolled": false
   },
   "outputs": [],
   "source": [
    "df = pd.read_csv(\"ml-100k/u.item\", sep = '|',names = column_names ,encoding = 'latin-1')\n",
    "index_csv = pd.read_csv(r\"movie_poster.csv\", header = 0)\n",
    "dfs = pd.read_csv('movie_poster.csv', header=None, names=['Sno', 'link'])\n",
    "item = df.copy()"
   ]
  },
  {
   "cell_type": "code",
   "execution_count": 6,
   "id": "eb535c34",
   "metadata": {
    "scrolled": true
   },
   "outputs": [
    {
     "data": {
      "text/plain": [
       "'Toy Story (1995)'"
      ]
     },
     "execution_count": 6,
     "metadata": {},
     "output_type": "execute_result"
    }
   ],
   "source": [
    "item.loc[0]['movie title']"
   ]
  },
  {
   "cell_type": "code",
   "execution_count": 7,
   "id": "921df92c",
   "metadata": {},
   "outputs": [],
   "source": [
    "index_movie_dict = {}\n",
    "for i in range(len(item)):\n",
    "    index_movie_dict[i] = item.loc[i]['movie title']"
   ]
  },
  {
   "cell_type": "code",
   "execution_count": 8,
   "id": "a5267809",
   "metadata": {
    "scrolled": false
   },
   "outputs": [
    {
     "data": {
      "text/plain": [
       "'Four Rooms (1995)'"
      ]
     },
     "execution_count": 8,
     "metadata": {},
     "output_type": "execute_result"
    }
   ],
   "source": [
    "index_movie_dict[2]"
   ]
  },
  {
   "cell_type": "markdown",
   "id": "fdf4085f",
   "metadata": {},
   "source": [
    "# Creating  movie index dict\n",
    "key = movie title ; value = index "
   ]
  },
  {
   "cell_type": "code",
   "execution_count": 9,
   "id": "b4f78193",
   "metadata": {},
   "outputs": [],
   "source": [
    "movie_index_dict = {}\n",
    "for i in range(len(item)):\n",
    "    movie_index_dict[item.loc[i]['movie title']] = i\n",
    "# movie_index_dict"
   ]
  },
  {
   "cell_type": "code",
   "execution_count": 10,
   "id": "dc3a6b74",
   "metadata": {},
   "outputs": [],
   "source": [
    "index_movies = movie_index_dict['Toy Story (1995)']\n",
    "# dfs.link[index_movies]"
   ]
  },
  {
   "cell_type": "code",
   "execution_count": 11,
   "id": "c24d7eda",
   "metadata": {},
   "outputs": [],
   "source": [
    "# drop uncesssary columns\n",
    "item.drop([ 'movie id',\"movie title\",\"release date\", \"video release date\",\"IMDb URL\"], axis = 1 , inplace = True)"
   ]
  },
  {
   "cell_type": "code",
   "execution_count": 12,
   "id": "886589e7",
   "metadata": {},
   "outputs": [
    {
     "data": {
      "text/plain": [
       "array([[1.        , 0.        , 0.        , ..., 0.        , 0.57735027,\n",
       "        0.        ],\n",
       "       [0.        , 1.        , 0.57735027, ..., 0.        , 0.        ,\n",
       "        0.        ],\n",
       "       [0.        , 0.57735027, 1.        , ..., 0.        , 0.        ,\n",
       "        0.        ],\n",
       "       ...,\n",
       "       [0.        , 0.        , 0.        , ..., 1.        , 0.        ,\n",
       "        0.70710678],\n",
       "       [0.57735027, 0.        , 0.        , ..., 0.        , 1.        ,\n",
       "        0.        ],\n",
       "       [0.        , 0.        , 0.        , ..., 0.70710678, 0.        ,\n",
       "        1.        ]])"
      ]
     },
     "execution_count": 12,
     "metadata": {},
     "output_type": "execute_result"
    }
   ],
   "source": [
    "from sklearn.metrics.pairwise import cosine_similarity \n",
    "similarity_matrix = cosine_similarity(item)\n",
    "similarity_matrix"
   ]
  },
  {
   "cell_type": "code",
   "execution_count": 13,
   "id": "f221e912",
   "metadata": {
    "scrolled": true
   },
   "outputs": [],
   "source": [
    "x = df[\"movie title\"]"
   ]
  },
  {
   "cell_type": "code",
   "execution_count": null,
   "id": "bbba74ef",
   "metadata": {
    "scrolled": true
   },
   "outputs": [
    {
     "name": "stdout",
     "output_type": "stream",
     "text": [
      " * Serving Flask app '__main__'\n",
      " * Debug mode: off\n"
     ]
    },
    {
     "name": "stderr",
     "output_type": "stream",
     "text": [
      "WARNING: This is a development server. Do not use it in a production deployment. Use a production WSGI server instead.\n",
      " * Running on http://localhost:80\n",
      "Press CTRL+C to quit\n",
      "127.0.0.1 - - [10/Aug/2023 19:54:24] \"GET /pywebio?app=index&ack=0 HTTP/1.1\" 200 -\n",
      "127.0.0.1 - - [10/Aug/2023 19:54:24] \"GET /pywebio?app=index&ack=0 HTTP/1.1\" 200 -\n",
      "127.0.0.1 - - [10/Aug/2023 19:54:24] \"GET /pywebio?app=index&ack=0 HTTP/1.1\" 200 -\n",
      "127.0.0.1 - - [10/Aug/2023 19:54:25] \"GET /pywebio?app=index&ack=0 HTTP/1.1\" 200 -\n",
      "127.0.0.1 - - [10/Aug/2023 19:54:26] \"GET /pywebio?app=index&ack=0 HTTP/1.1\" 200 -\n",
      "127.0.0.1 - - [10/Aug/2023 19:54:27] \"GET /pywebio?app=index&ack=0 HTTP/1.1\" 200 -\n",
      "127.0.0.1 - - [10/Aug/2023 19:54:28] \"GET /pywebio?app=index&ack=0 HTTP/1.1\" 200 -\n",
      "127.0.0.1 - - [10/Aug/2023 19:54:29] \"GET /pywebio?app=index&ack=0 HTTP/1.1\" 200 -\n",
      "127.0.0.1 - - [10/Aug/2023 19:54:30] \"GET /pywebio?app=index&ack=0 HTTP/1.1\" 200 -\n",
      "127.0.0.1 - - [10/Aug/2023 19:54:30] \"GET /pywebio?app=index&ack=0 HTTP/1.1\" 200 -\n",
      "127.0.0.1 - - [10/Aug/2023 19:54:31] \"GET /pywebio HTTP/1.1\" 200 -\n",
      "127.0.0.1 - - [10/Aug/2023 19:54:31] \"GET /pywebio?app=index&ack=0 HTTP/1.1\" 200 -\n",
      "127.0.0.1 - - [10/Aug/2023 19:54:32] \"GET /pywebio?app=index&ack=-1 HTTP/1.1\" 200 -\n",
      "127.0.0.1 - - [10/Aug/2023 19:54:33] \"GET /pywebio?app=index&ack=0 HTTP/1.1\" 200 -\n",
      "127.0.0.1 - - [10/Aug/2023 19:54:34] \"GET /pywebio?app=index&ack=0 HTTP/1.1\" 200 -\n",
      "127.0.0.1 - - [10/Aug/2023 19:54:35] \"GET /pywebio?app=index&ack=0 HTTP/1.1\" 200 -\n",
      "127.0.0.1 - - [10/Aug/2023 19:54:36] \"GET /pywebio?app=index&ack=0 HTTP/1.1\" 200 -\n",
      "127.0.0.1 - - [10/Aug/2023 19:54:37] \"GET /pywebio?app=index&ack=0 HTTP/1.1\" 200 -\n",
      "127.0.0.1 - - [10/Aug/2023 19:54:38] \"GET /pywebio?app=index&ack=0 HTTP/1.1\" 200 -\n",
      "127.0.0.1 - - [10/Aug/2023 19:54:39] \"GET /pywebio?app=index&ack=0 HTTP/1.1\" 200 -\n",
      "127.0.0.1 - - [10/Aug/2023 19:54:41] \"GET /pywebio?app=index&ack=0 HTTP/1.1\" 200 -\n",
      "127.0.0.1 - - [10/Aug/2023 19:54:42] \"GET /pywebio?app=index&ack=0 HTTP/1.1\" 200 -\n",
      "127.0.0.1 - - [10/Aug/2023 19:54:42] \"GET /pywebio?app=index&ack=0 HTTP/1.1\" 200 -\n",
      "127.0.0.1 - - [10/Aug/2023 19:54:43] \"GET /pywebio?app=index&ack=0 HTTP/1.1\" 200 -\n",
      "127.0.0.1 - - [10/Aug/2023 19:54:44] \"GET /pywebio?app=index&ack=0 HTTP/1.1\" 200 -\n",
      "127.0.0.1 - - [10/Aug/2023 19:54:45] \"GET /pywebio?app=index&ack=0 HTTP/1.1\" 200 -\n",
      "127.0.0.1 - - [10/Aug/2023 19:54:46] \"GET /pywebio?app=index&ack=0 HTTP/1.1\" 200 -\n",
      "127.0.0.1 - - [10/Aug/2023 19:54:48] \"GET /pywebio?app=index&ack=0 HTTP/1.1\" 200 -\n",
      "127.0.0.1 - - [10/Aug/2023 19:54:49] \"GET /pywebio?app=index&ack=0 HTTP/1.1\" 200 -\n",
      "127.0.0.1 - - [10/Aug/2023 19:54:50] \"GET /pywebio?app=index&ack=0 HTTP/1.1\" 200 -\n",
      "127.0.0.1 - - [10/Aug/2023 19:54:51] \"GET /pywebio?app=index&ack=0 HTTP/1.1\" 200 -\n",
      "127.0.0.1 - - [10/Aug/2023 19:54:52] \"GET /pywebio?app=index&ack=0 HTTP/1.1\" 200 -\n",
      "127.0.0.1 - - [10/Aug/2023 19:54:53] \"GET /pywebio?app=index&ack=0 HTTP/1.1\" 200 -\n",
      "127.0.0.1 - - [10/Aug/2023 19:54:54] \"GET /pywebio?app=index&ack=0 HTTP/1.1\" 200 -\n",
      "127.0.0.1 - - [10/Aug/2023 19:54:55] \"GET /pywebio?app=index&ack=0 HTTP/1.1\" 200 -\n",
      "127.0.0.1 - - [10/Aug/2023 19:54:56] \"GET /pywebio?app=index&ack=0 HTTP/1.1\" 200 -\n",
      "127.0.0.1 - - [10/Aug/2023 19:54:57] \"GET /pywebio?app=index&ack=0 HTTP/1.1\" 200 -\n",
      "127.0.0.1 - - [10/Aug/2023 19:54:58] \"GET /pywebio?app=index&ack=0 HTTP/1.1\" 200 -\n",
      "127.0.0.1 - - [10/Aug/2023 19:54:59] \"GET /pywebio?app=index&ack=0 HTTP/1.1\" 200 -\n",
      "127.0.0.1 - - [10/Aug/2023 19:55:00] \"GET /pywebio?app=index&ack=0 HTTP/1.1\" 200 -\n",
      "127.0.0.1 - - [10/Aug/2023 19:55:01] \"GET /pywebio?app=index&ack=0 HTTP/1.1\" 200 -\n",
      "127.0.0.1 - - [10/Aug/2023 19:55:02] \"GET /pywebio?app=index&ack=0 HTTP/1.1\" 200 -\n",
      "127.0.0.1 - - [10/Aug/2023 19:55:03] \"GET /pywebio?app=index&ack=0 HTTP/1.1\" 200 -\n",
      "127.0.0.1 - - [10/Aug/2023 19:55:04] \"GET /pywebio?app=index&ack=0 HTTP/1.1\" 200 -\n",
      "127.0.0.1 - - [10/Aug/2023 19:55:05] \"GET /pywebio?app=index&ack=0 HTTP/1.1\" 200 -\n",
      "127.0.0.1 - - [10/Aug/2023 19:55:06] \"GET /pywebio?app=index&ack=0 HTTP/1.1\" 200 -\n",
      "127.0.0.1 - - [10/Aug/2023 19:55:07] \"GET /pywebio?app=index&ack=0 HTTP/1.1\" 200 -\n",
      "127.0.0.1 - - [10/Aug/2023 19:55:08] \"GET /pywebio?app=index&ack=0 HTTP/1.1\" 200 -\n",
      "127.0.0.1 - - [10/Aug/2023 19:55:09] \"GET /pywebio?app=index&ack=0 HTTP/1.1\" 200 -\n",
      "127.0.0.1 - - [10/Aug/2023 19:55:10] \"GET /pywebio?app=index&ack=0 HTTP/1.1\" 200 -\n",
      "127.0.0.1 - - [10/Aug/2023 19:55:11] \"GET /pywebio?app=index&ack=0 HTTP/1.1\" 200 -\n",
      "127.0.0.1 - - [10/Aug/2023 19:55:12] \"GET /pywebio?app=index&ack=0 HTTP/1.1\" 200 -\n",
      "127.0.0.1 - - [10/Aug/2023 19:55:13] \"GET /pywebio?app=index&ack=0 HTTP/1.1\" 200 -\n",
      "127.0.0.1 - - [10/Aug/2023 19:55:14] \"GET /pywebio?app=index&ack=0 HTTP/1.1\" 200 -\n",
      "127.0.0.1 - - [10/Aug/2023 19:55:15] \"GET /pywebio?app=index&ack=0 HTTP/1.1\" 200 -\n",
      "127.0.0.1 - - [10/Aug/2023 19:55:16] \"GET /pywebio?app=index&ack=0 HTTP/1.1\" 200 -\n",
      "127.0.0.1 - - [10/Aug/2023 19:55:17] \"GET /pywebio?app=index&ack=0 HTTP/1.1\" 200 -\n",
      "127.0.0.1 - - [10/Aug/2023 19:55:18] \"GET /pywebio?app=index&ack=0 HTTP/1.1\" 200 -\n",
      "127.0.0.1 - - [10/Aug/2023 19:55:19] \"GET /pywebio?app=index&ack=0 HTTP/1.1\" 200 -\n",
      "127.0.0.1 - - [10/Aug/2023 19:55:20] \"GET /pywebio?app=index&ack=0 HTTP/1.1\" 200 -\n",
      "127.0.0.1 - - [10/Aug/2023 19:55:21] \"GET /pywebio?app=index&ack=0 HTTP/1.1\" 200 -\n",
      "127.0.0.1 - - [10/Aug/2023 19:55:22] \"GET /pywebio?app=index&ack=0 HTTP/1.1\" 200 -\n",
      "127.0.0.1 - - [10/Aug/2023 19:55:23] \"GET /pywebio?app=index&ack=0 HTTP/1.1\" 200 -\n",
      "127.0.0.1 - - [10/Aug/2023 19:55:24] \"GET /pywebio?app=index&ack=0 HTTP/1.1\" 200 -\n",
      "127.0.0.1 - - [10/Aug/2023 19:55:25] \"GET /pywebio?app=index&ack=0 HTTP/1.1\" 200 -\n",
      "127.0.0.1 - - [10/Aug/2023 19:55:26] \"GET /pywebio?app=index&ack=0 HTTP/1.1\" 200 -\n",
      "127.0.0.1 - - [10/Aug/2023 19:55:27] \"GET /pywebio?app=index&ack=0 HTTP/1.1\" 200 -\n",
      "127.0.0.1 - - [10/Aug/2023 19:55:28] \"GET /pywebio?app=index&ack=0 HTTP/1.1\" 200 -\n",
      "127.0.0.1 - - [10/Aug/2023 19:55:29] \"GET /pywebio?app=index&ack=0 HTTP/1.1\" 200 -\n",
      "127.0.0.1 - - [10/Aug/2023 19:55:30] \"GET /pywebio?app=index&ack=0 HTTP/1.1\" 200 -\n",
      "127.0.0.1 - - [10/Aug/2023 19:55:31] \"GET /pywebio?app=index&ack=0 HTTP/1.1\" 200 -\n",
      "127.0.0.1 - - [10/Aug/2023 19:55:32] \"GET /pywebio?app=index&ack=0 HTTP/1.1\" 200 -\n",
      "127.0.0.1 - - [10/Aug/2023 19:55:33] \"GET /pywebio?app=index&ack=0 HTTP/1.1\" 200 -\n",
      "127.0.0.1 - - [10/Aug/2023 19:55:34] \"GET /pywebio?app=index&ack=0 HTTP/1.1\" 200 -\n",
      "127.0.0.1 - - [10/Aug/2023 19:55:35] \"GET /pywebio?app=index&ack=0 HTTP/1.1\" 200 -\n",
      "127.0.0.1 - - [10/Aug/2023 19:55:36] \"GET /pywebio?app=index&ack=0 HTTP/1.1\" 200 -\n",
      "127.0.0.1 - - [10/Aug/2023 19:55:37] \"GET /pywebio?app=index&ack=0 HTTP/1.1\" 200 -\n",
      "127.0.0.1 - - [10/Aug/2023 19:55:38] \"GET /pywebio?app=index&ack=0 HTTP/1.1\" 200 -\n",
      "127.0.0.1 - - [10/Aug/2023 19:55:39] \"GET /pywebio?app=index&ack=0 HTTP/1.1\" 200 -\n",
      "127.0.0.1 - - [10/Aug/2023 19:55:40] \"GET /pywebio?app=index&ack=0 HTTP/1.1\" 200 -\n",
      "127.0.0.1 - - [10/Aug/2023 19:55:41] \"GET /pywebio?app=index&ack=0 HTTP/1.1\" 200 -\n",
      "127.0.0.1 - - [10/Aug/2023 19:55:42] \"GET /pywebio?app=index&ack=0 HTTP/1.1\" 200 -\n",
      "127.0.0.1 - - [10/Aug/2023 19:55:43] \"GET /pywebio?app=index&ack=0 HTTP/1.1\" 200 -\n",
      "127.0.0.1 - - [10/Aug/2023 19:55:44] \"GET /pywebio?app=index&ack=0 HTTP/1.1\" 200 -\n",
      "127.0.0.1 - - [10/Aug/2023 19:55:45] \"GET /pywebio?app=index&ack=0 HTTP/1.1\" 200 -\n",
      "127.0.0.1 - - [10/Aug/2023 19:55:46] \"GET /pywebio?app=index&ack=0 HTTP/1.1\" 200 -\n",
      "127.0.0.1 - - [10/Aug/2023 19:55:47] \"GET /pywebio?app=index&ack=0 HTTP/1.1\" 200 -\n",
      "127.0.0.1 - - [10/Aug/2023 19:55:54] \"GET /pywebio?app=index&ack=0 HTTP/1.1\" 200 -\n",
      "127.0.0.1 - - [10/Aug/2023 19:55:54] \"GET /pywebio?app=index&ack=0 HTTP/1.1\" 200 -\n",
      "127.0.0.1 - - [10/Aug/2023 19:55:55] \"GET /pywebio?app=index&ack=0 HTTP/1.1\" 200 -\n",
      "127.0.0.1 - - [10/Aug/2023 19:55:56] \"GET /pywebio?app=index&ack=0 HTTP/1.1\" 200 -\n",
      "127.0.0.1 - - [10/Aug/2023 19:55:57] \"GET /pywebio?app=index&ack=0 HTTP/1.1\" 200 -\n",
      "127.0.0.1 - - [10/Aug/2023 19:55:58] \"GET /pywebio?app=index&ack=0 HTTP/1.1\" 200 -\n",
      "127.0.0.1 - - [10/Aug/2023 19:55:59] \"GET /pywebio?app=index&ack=0 HTTP/1.1\" 200 -\n",
      "127.0.0.1 - - [10/Aug/2023 19:56:01] \"GET /pywebio?app=index&ack=0 HTTP/1.1\" 200 -\n",
      "127.0.0.1 - - [10/Aug/2023 19:56:02] \"GET /pywebio?app=index&ack=0 HTTP/1.1\" 200 -\n",
      "127.0.0.1 - - [10/Aug/2023 19:56:03] \"GET /pywebio?app=index&ack=0 HTTP/1.1\" 200 -\n"
     ]
    },
    {
     "name": "stderr",
     "output_type": "stream",
     "text": [
      "127.0.0.1 - - [10/Aug/2023 19:56:04] \"GET /pywebio?app=index&ack=0 HTTP/1.1\" 200 -\n",
      "127.0.0.1 - - [10/Aug/2023 19:56:05] \"GET /pywebio?app=index&ack=0 HTTP/1.1\" 200 -\n",
      "127.0.0.1 - - [10/Aug/2023 19:56:06] \"GET /pywebio?app=index&ack=0 HTTP/1.1\" 200 -\n",
      "127.0.0.1 - - [10/Aug/2023 19:56:07] \"GET /pywebio?app=index&ack=0 HTTP/1.1\" 200 -\n",
      "127.0.0.1 - - [10/Aug/2023 19:56:08] \"GET /pywebio?app=index&ack=0 HTTP/1.1\" 200 -\n",
      "127.0.0.1 - - [10/Aug/2023 19:56:08] \"GET /pywebio?app=index&ack=0 HTTP/1.1\" 200 -\n",
      "127.0.0.1 - - [10/Aug/2023 19:56:09] \"GET /pywebio?app=index&ack=0 HTTP/1.1\" 200 -\n",
      "127.0.0.1 - - [10/Aug/2023 19:56:10] \"GET /pywebio?app=index&ack=0 HTTP/1.1\" 200 -\n",
      "127.0.0.1 - - [10/Aug/2023 19:56:11] \"POST /pywebio?app=index&ack=0&seq=0 HTTP/1.1\" 200 -\n",
      "127.0.0.1 - - [10/Aug/2023 19:56:11] \"GET /pywebio?app=index&ack=1 HTTP/1.1\" 200 -\n",
      "127.0.0.1 - - [10/Aug/2023 19:56:12] \"GET /pywebio?app=index&ack=1 HTTP/1.1\" 200 -\n",
      "127.0.0.1 - - [10/Aug/2023 19:56:13] \"GET /pywebio?app=index&ack=1 HTTP/1.1\" 200 -\n",
      "127.0.0.1 - - [10/Aug/2023 19:56:14] \"POST /pywebio?app=index&ack=1&seq=1 HTTP/1.1\" 200 -\n",
      "127.0.0.1 - - [10/Aug/2023 19:56:14] \"GET /pywebio?app=index&ack=1 HTTP/1.1\" 200 -\n",
      "Unhandled error in pywebio app\n",
      "Traceback (most recent call last):\n",
      "  File \"C:\\Users\\dell\\anaconda3\\Lib\\site-packages\\pywebio\\session\\threadbased.py\", line 86, in main_task\n",
      "    target()\n",
      "  File \"C:\\Users\\dell\\AppData\\Local\\Temp\\ipykernel_10536\\1160165739.py\", line 37, in getstarted\n",
      "  File \"C:\\Users\\dell\\anaconda3\\Lib\\site-packages\\pandas\\core\\indexing.py\", line 1073, in __getitem__\n",
      "    return self._getitem_axis(maybe_callable, axis=axis)\n",
      "           ^^^^^^^^^^^^^^^^^^^^^^^^^^^^^^^^^^^^^^^^^^^^^\n",
      "  File \"C:\\Users\\dell\\anaconda3\\Lib\\site-packages\\pandas\\core\\indexing.py\", line 1625, in _getitem_axis\n",
      "    self._validate_integer(key, axis)\n",
      "  File \"C:\\Users\\dell\\anaconda3\\Lib\\site-packages\\pandas\\core\\indexing.py\", line 1557, in _validate_integer\n",
      "    raise IndexError(\"single positional indexer is out-of-bounds\")\n",
      "IndexError: single positional indexer is out-of-bounds\n",
      "127.0.0.1 - - [10/Aug/2023 19:56:15] \"GET /pywebio?app=index&ack=3 HTTP/1.1\" 200 -\n",
      "127.0.0.1 - - [10/Aug/2023 19:56:17] \"GET /pywebio HTTP/1.1\" 200 -\n",
      "127.0.0.1 - - [10/Aug/2023 19:56:18] \"GET /pywebio?app=index&ack=-1 HTTP/1.1\" 200 -\n",
      "127.0.0.1 - - [10/Aug/2023 19:56:19] \"GET /pywebio?app=index&ack=0 HTTP/1.1\" 200 -\n",
      "127.0.0.1 - - [10/Aug/2023 19:56:20] \"GET /pywebio?app=index&ack=0 HTTP/1.1\" 200 -\n",
      "127.0.0.1 - - [10/Aug/2023 19:56:21] \"POST /pywebio?app=index&ack=0&seq=0 HTTP/1.1\" 200 -\n",
      "127.0.0.1 - - [10/Aug/2023 19:56:21] \"GET /pywebio?app=index&ack=1 HTTP/1.1\" 200 -\n",
      "127.0.0.1 - - [10/Aug/2023 19:56:22] \"POST /pywebio?app=index&ack=1&seq=1 HTTP/1.1\" 200 -\n",
      "127.0.0.1 - - [10/Aug/2023 19:56:22] \"GET /pywebio?app=index&ack=1 HTTP/1.1\" 200 -\n",
      "127.0.0.1 - - [10/Aug/2023 19:56:23] \"GET /pywebio?app=index&ack=2 HTTP/1.1\" 200 -\n"
     ]
    }
   ],
   "source": [
    "app = Flask(__name__)\n",
    "\n",
    "def getstarted():\n",
    "    \n",
    "    put_markdown(\"# Movie recommendation system :\")\n",
    "    pic = \"recommendation.jpeg\"\n",
    "#     pic = \"download.jpeg\"\n",
    "    img = open(pic ,'rb').read()\n",
    "    put_image(img , width = '100%')\n",
    "    options_list = x\n",
    "    \n",
    "    watched_movie = select(\"which movie have you watched recently ? : \", options = options_list , required=True)\n",
    "    num_recommendations = int(input(\"How many number of recommendations do u want ? \"))\n",
    "    \n",
    "    idx = movie_index_dict[watched_movie]\n",
    "    \n",
    "    lst = []\n",
    "    for i in range(len(similarity_matrix)):\n",
    "        lst.append((similarity_matrix[idx][i], i))\n",
    "        lst.sort(reverse=True)\n",
    "    lst.sort(reverse=True)\n",
    "    recommendations = []\n",
    "    \n",
    "    for i in range(len(lst)):\n",
    "        recommendations.append(index_movie_dict[lst[i][1]])\n",
    "    recommendations.remove(watched_movie)\n",
    "\n",
    "    names = recommendations[:num_recommendations]\n",
    "    put_markdown(f\"# Here are your TOP {num_recommendations} recommendated movies based on \\n # {watched_movie}: \\n--------------------------------------------\")\n",
    "\n",
    "    for name in names:\n",
    "        \n",
    "            index_movies = movie_index_dict[name]+1\n",
    "            \n",
    "            filtered_df = dfs.loc[dfs['Sno'] == index_movies]\n",
    "            \n",
    "            url = filtered_df['link'].iloc[0]\n",
    "            \n",
    "            put_image(url)\n",
    "            put_markdown(f'## `{name}`')      \n",
    "    \n",
    "         \n",
    "app.add_url_rule('/pywebio' , 'webio_view' ,webio_view(getstarted) , methods = [ 'GET', 'POST','OPTIONS'] )\n",
    "app.run(host = 'localhost' , port = 80)"
   ]
  },
  {
   "cell_type": "markdown",
   "id": "3f679df4",
   "metadata": {},
   "source": [
    "# Be so happy that when others look at you they become happy too!!"
   ]
  }
 ],
 "metadata": {
  "kernelspec": {
   "display_name": "Python 3 (ipykernel)",
   "language": "python",
   "name": "python3"
  },
  "language_info": {
   "codemirror_mode": {
    "name": "ipython",
    "version": 3
   },
   "file_extension": ".py",
   "mimetype": "text/x-python",
   "name": "python",
   "nbconvert_exporter": "python",
   "pygments_lexer": "ipython3",
   "version": "3.11.3"
  }
 },
 "nbformat": 4,
 "nbformat_minor": 5
}
