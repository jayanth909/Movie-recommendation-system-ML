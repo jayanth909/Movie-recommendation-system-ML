{
 "cells": [
  {
   "cell_type": "code",
   "execution_count": 1,
   "id": "80a86999",
   "metadata": {
    "scrolled": true
   },
   "outputs": [],
   "source": [
    "#!pip install pywebio"
   ]
  },
  {
   "cell_type": "code",
   "execution_count": 1,
   "id": "7a65a6c4",
   "metadata": {},
   "outputs": [],
   "source": [
    "import pandas as pd\n",
    "\n",
    "\n",
    "column_names = [\"movie id\", \"movie title\", \"release date\", \"video release date\",\n",
    "\"IMDb URL\", \"unknown\", \"Action\", \"Adventure\", \"Animation\",\n",
    "\"Children's\", \"Comedy\", \"Crime\", \"Documentary\", \"Drama\", \"Fantasy\",\n",
    "\"Film-Noir\", \"Horror\", \"Musical\", \"Mystery\", \"Romance\", \"Sci-Fi\",\n",
    "\"Thriller\", \"War\", \"Western\"]\n",
    "\n",
    "item = pd.read_csv(\"ml-100k/u.item\", sep = '|',names = column_names ,encoding = 'latin-1')"
   ]
  },
  {
   "cell_type": "code",
   "execution_count": 3,
   "id": "451020ac",
   "metadata": {},
   "outputs": [
    {
     "ename": "TypeError",
     "evalue": "'list' object is not callable",
     "output_type": "error",
     "traceback": [
      "\u001b[1;31m---------------------------------------------------------------------------\u001b[0m",
      "\u001b[1;31mTypeError\u001b[0m                                 Traceback (most recent call last)",
      "\u001b[1;32m~\\AppData\\Local\\Temp\\ipykernel_9244\\181903771.py\u001b[0m in \u001b[0;36m<module>\u001b[1;34m\u001b[0m\n\u001b[1;32m----> 1\u001b[1;33m \u001b[0mx\u001b[0m \u001b[1;33m=\u001b[0m \u001b[0mcolumn_names\u001b[0m\u001b[1;33m(\u001b[0m\u001b[1;34m\"movie_title\"\u001b[0m\u001b[1;33m)\u001b[0m\u001b[1;33m\u001b[0m\u001b[1;33m\u001b[0m\u001b[0m\n\u001b[0m",
      "\u001b[1;31mTypeError\u001b[0m: 'list' object is not callable"
     ]
    }
   ],
   "source": [
    "x = column_names(\"movie_title\")"
   ]
  },
  {
   "cell_type": "code",
   "execution_count": null,
   "id": "e9b9c3d2",
   "metadata": {},
   "outputs": [
    {
     "name": "stdout",
     "output_type": "stream",
     "text": [
      " * Serving Flask app \"__main__\" (lazy loading)\n",
      " * Environment: production\n",
      "\u001b[31m   WARNING: This is a development server. Do not use it in a production deployment.\u001b[0m\n",
      "\u001b[2m   Use a production WSGI server instead.\u001b[0m\n",
      " * Debug mode: off\n"
     ]
    },
    {
     "name": "stderr",
     "output_type": "stream",
     "text": [
      " * Running on http://localhost:80/ (Press CTRL+C to quit)\n",
      "127.0.0.1 - - [02/Jun/2023 12:29:59] \"GET /pywebio HTTP/1.1\" 200 -\n",
      "127.0.0.1 - - [02/Jun/2023 12:30:00] \"GET /pywebio?app=index&ack=-1 HTTP/1.1\" 200 -\n",
      "127.0.0.1 - - [02/Jun/2023 12:30:01] \"GET /pywebio?app=index&ack=0 HTTP/1.1\" 200 -\n",
      "127.0.0.1 - - [02/Jun/2023 12:30:01] \"GET /pywebio?app=index&ack=0 HTTP/1.1\" 200 -\n",
      "127.0.0.1 - - [02/Jun/2023 12:30:03] \"GET /pywebio?app=index&ack=0 HTTP/1.1\" 200 -\n",
      "127.0.0.1 - - [02/Jun/2023 12:30:03] \"GET /pywebio?app=index&ack=0 HTTP/1.1\" 200 -\n",
      "127.0.0.1 - - [02/Jun/2023 12:30:05] \"GET /pywebio?app=index&ack=0 HTTP/1.1\" 200 -\n",
      "127.0.0.1 - - [02/Jun/2023 12:30:06] \"GET /pywebio?app=index&ack=0 HTTP/1.1\" 200 -\n",
      "127.0.0.1 - - [02/Jun/2023 12:30:07] \"GET /pywebio?app=index&ack=0 HTTP/1.1\" 200 -\n",
      "127.0.0.1 - - [02/Jun/2023 12:30:08] \"GET /pywebio?app=index&ack=0 HTTP/1.1\" 200 -\n",
      "127.0.0.1 - - [02/Jun/2023 12:30:09] \"GET /pywebio?app=index&ack=0 HTTP/1.1\" 200 -\n",
      "127.0.0.1 - - [02/Jun/2023 12:30:10] \"GET /pywebio?app=index&ack=0 HTTP/1.1\" 200 -\n",
      "127.0.0.1 - - [02/Jun/2023 12:30:11] \"GET /pywebio?app=index&ack=0 HTTP/1.1\" 200 -\n",
      "127.0.0.1 - - [02/Jun/2023 12:30:12] \"GET /pywebio?app=index&ack=0 HTTP/1.1\" 200 -\n",
      "127.0.0.1 - - [02/Jun/2023 12:30:13] \"GET /pywebio?app=index&ack=0 HTTP/1.1\" 200 -\n",
      "127.0.0.1 - - [02/Jun/2023 12:30:14] \"GET /pywebio?app=index&ack=0 HTTP/1.1\" 200 -\n",
      "127.0.0.1 - - [02/Jun/2023 12:30:15] \"GET /pywebio?app=index&ack=0 HTTP/1.1\" 200 -\n",
      "127.0.0.1 - - [02/Jun/2023 12:30:16] \"GET /pywebio?app=index&ack=0 HTTP/1.1\" 200 -\n",
      "127.0.0.1 - - [02/Jun/2023 12:30:17] \"GET /pywebio?app=index&ack=0 HTTP/1.1\" 200 -\n",
      "127.0.0.1 - - [02/Jun/2023 12:30:18] \"GET /pywebio?app=index&ack=0 HTTP/1.1\" 200 -\n",
      "127.0.0.1 - - [02/Jun/2023 12:30:19] \"GET /pywebio?app=index&ack=0 HTTP/1.1\" 200 -\n",
      "127.0.0.1 - - [02/Jun/2023 12:30:20] \"GET /pywebio?app=index&ack=0 HTTP/1.1\" 200 -\n"
     ]
    }
   ],
   "source": [
    "from pywebio.input import *\n",
    "from pywebio.output import *\n",
    "from pywebio.platform.flask import webio_view \n",
    "from flask import Flask\n",
    "app = Flask(__name__)\n",
    "\n",
    "def getstarted():\n",
    "   \n",
    "    put_markdown(\"# Movie recommendation system\")\n",
    "    pic = \"recommendation.jpeg\"\n",
    "    img = open(pic ,'rb').read()\n",
    "    put_image(img , width = '100%')\n",
    "    options_list = ['haa ji']\n",
    "    answer = select(\"which movie are u planning to watch tonight ? : \" , options = options_list ,multiple = True , required = True)\n",
    "    put\n",
    "#     answer = radio(\"who killed bahubali?\", options=['katappa','devsana','nenaithe kaadu bro','chintu bro','model bro'])\n",
    "  \n",
    "  #     if(answer == 'chimtu bro'):\n",
    "#         put_markdown('# `Your correct.`')\n",
    "#     else:\n",
    "#         put_markdown('# `Next part dheeko`')\n",
    "    \n",
    "    \n",
    "    \n",
    "app.add_url_rule('/pywebio' , 'webio_view' ,webio_view(getstarted) , methods = [ 'GET', 'POST','OPTIONS'] )\n",
    "\n",
    "app.run(host = 'localhost' , port = 80)\n",
    "#  % is format specifier"
   ]
  },
  {
   "cell_type": "markdown",
   "id": "cb2ffe95",
   "metadata": {},
   "source": [
    "# Put_text:\n",
    "    "
   ]
  },
  {
   "cell_type": "code",
   "execution_count": null,
   "id": "11f6e8c1",
   "metadata": {},
   "outputs": [],
   "source": [
    "\n",
    "def getstarted():\n",
    "    put_text('hello World')\n",
    "    name = \"jayanth\"\n",
    "    put_text(\"my name is %s\" %name)\n",
    "    number = 7\n",
    "    pi = 3.142\n",
    "    put_text('number = %d ; pi value = %f '% (number,pi))\n",
    "    "
   ]
  },
  {
   "cell_type": "markdown",
   "id": "e65af60b",
   "metadata": {},
   "source": [
    "# Markdown text :\n",
    "    "
   ]
  },
  {
   "cell_type": "code",
   "execution_count": null,
   "id": "5d73d3a8",
   "metadata": {},
   "outputs": [],
   "source": [
    "def getstarted():\n",
    "    put_markdown(\"put_markdown(\"\")\")\n",
    "    put_markdown(\"**put_markdown(\"\")**\")\n",
    "    put_markdown(\"###put_markdown(\"\")\")\n",
    "    put_markdown(\"##put_markdown(\"\")\")\n",
    "    put_markdown(\"#put_markdown(\"\")\")"
   ]
  },
  {
   "cell_type": "markdown",
   "id": "2e7ca81e",
   "metadata": {},
   "source": [
    "# Put img:\n",
    "    "
   ]
  },
  {
   "cell_type": "code",
   "execution_count": null,
   "id": "11bb8c76",
   "metadata": {},
   "outputs": [],
   "source": [
    "def getstarted():\n",
    "    put_markdown(\"# Movie recommendation system\")\n",
    "    pic = \"recommendation.jpeg\"\n",
    "    img = open(pic ,'rb').read()\n",
    "    put_image(img , width = '100%')\n",
    "    "
   ]
  },
  {
   "cell_type": "code",
   "execution_count": null,
   "id": "c6fdbbf1",
   "metadata": {},
   "outputs": [],
   "source": []
  }
 ],
 "metadata": {
  "kernelspec": {
   "display_name": "Python 3 (ipykernel)",
   "language": "python",
   "name": "python3"
  },
  "language_info": {
   "codemirror_mode": {
    "name": "ipython",
    "version": 3
   },
   "file_extension": ".py",
   "mimetype": "text/x-python",
   "name": "python",
   "nbconvert_exporter": "python",
   "pygments_lexer": "ipython3",
   "version": "3.9.13"
  }
 },
 "nbformat": 4,
 "nbformat_minor": 5
}
