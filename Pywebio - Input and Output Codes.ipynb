{
 "cells": [
  {
   "cell_type": "markdown",
   "id": "96cdfc94",
   "metadata": {},
   "source": [
    "# Rishabh Bafna | Raman Classes, Roorkee\n",
    "Creating Web Interface for ML and/or NLP-based projects using Pywebio and Flask"
   ]
  },
  {
   "cell_type": "markdown",
   "id": "ae98b953",
   "metadata": {},
   "source": [
    "# Pywebio Template"
   ]
  },
  {
   "cell_type": "code",
   "execution_count": null,
   "id": "ebdf6a8d",
   "metadata": {},
   "outputs": [],
   "source": [
    "!pip install pywebio    # You will need Internet Connection to install Pywebio"
   ]
  },
  {
   "cell_type": "code",
   "execution_count": 8,
   "id": "1f6774a2",
   "metadata": {},
   "outputs": [
    {
     "name": "stdout",
     "output_type": "stream",
     "text": [
      " * Serving Flask app \"__main__\" (lazy loading)\n",
      " * Environment: production\n",
      "\u001b[31m   WARNING: This is a development server. Do not use it in a production deployment.\u001b[0m\n",
      "\u001b[2m   Use a production WSGI server instead.\u001b[0m\n",
      " * Debug mode: off\n"
     ]
    },
    {
     "name": "stderr",
     "output_type": "stream",
     "text": [
      " * Running on http://localhost:80/ (Press CTRL+C to quit)\n",
      "127.0.0.1 - - [02/Jun/2023 12:28:05] \"GET /pywebio HTTP/1.1\" 200 -\n",
      "127.0.0.1 - - [02/Jun/2023 12:28:05] \"GET /pywebio?app=index HTTP/1.1\" 200 -\n",
      "127.0.0.1 - - [02/Jun/2023 12:28:06] \"GET /pywebio?app=index HTTP/1.1\" 200 -\n",
      "127.0.0.1 - - [02/Jun/2023 12:28:07] \"GET /pywebio?app=index HTTP/1.1\" 200 -\n",
      "127.0.0.1 - - [02/Jun/2023 12:28:08] \"GET /pywebio?app=index HTTP/1.1\" 200 -\n",
      "127.0.0.1 - - [02/Jun/2023 12:28:09] \"GET /pywebio?app=index HTTP/1.1\" 200 -\n",
      "127.0.0.1 - - [02/Jun/2023 12:28:10] \"GET /pywebio?app=index HTTP/1.1\" 200 -\n",
      "127.0.0.1 - - [02/Jun/2023 12:28:11] \"GET /pywebio?app=index HTTP/1.1\" 200 -\n",
      "127.0.0.1 - - [02/Jun/2023 12:28:12] \"GET /pywebio?app=index HTTP/1.1\" 200 -\n",
      "127.0.0.1 - - [02/Jun/2023 12:28:13] \"GET /pywebio?app=index HTTP/1.1\" 200 -\n",
      "127.0.0.1 - - [02/Jun/2023 12:28:14] \"GET /pywebio?app=index HTTP/1.1\" 200 -\n",
      "127.0.0.1 - - [02/Jun/2023 12:28:15] \"GET /pywebio?app=index HTTP/1.1\" 200 -\n",
      "127.0.0.1 - - [02/Jun/2023 12:28:16] \"GET /pywebio?app=index HTTP/1.1\" 200 -\n",
      "127.0.0.1 - - [02/Jun/2023 12:28:17] \"GET /pywebio?app=index HTTP/1.1\" 200 -\n",
      "127.0.0.1 - - [02/Jun/2023 12:28:18] \"GET /pywebio?app=index HTTP/1.1\" 200 -\n",
      "127.0.0.1 - - [02/Jun/2023 12:28:19] \"GET /pywebio?app=index HTTP/1.1\" 200 -\n",
      "127.0.0.1 - - [02/Jun/2023 12:28:20] \"GET /pywebio?app=index HTTP/1.1\" 200 -\n",
      "127.0.0.1 - - [02/Jun/2023 12:28:21] \"GET /pywebio?app=index HTTP/1.1\" 200 -\n",
      "127.0.0.1 - - [02/Jun/2023 12:28:22] \"GET /pywebio?app=index HTTP/1.1\" 200 -\n",
      "127.0.0.1 - - [02/Jun/2023 12:28:23] \"GET /pywebio?app=index HTTP/1.1\" 200 -\n",
      "127.0.0.1 - - [02/Jun/2023 12:28:24] \"GET /pywebio?app=index HTTP/1.1\" 200 -\n",
      "127.0.0.1 - - [02/Jun/2023 12:28:25] \"GET /pywebio?app=index HTTP/1.1\" 200 -\n",
      "127.0.0.1 - - [02/Jun/2023 12:28:26] \"GET /pywebio?app=index HTTP/1.1\" 200 -\n",
      "127.0.0.1 - - [02/Jun/2023 12:28:27] \"POST /pywebio?app=index HTTP/1.1\" 200 -\n",
      "127.0.0.1 - - [02/Jun/2023 12:28:27] \"GET /pywebio?app=index HTTP/1.1\" 200 -\n",
      "127.0.0.1 - - [02/Jun/2023 12:28:40] \"GET /pywebio HTTP/1.1\" 200 -\n",
      "127.0.0.1 - - [02/Jun/2023 12:28:41] \"GET /pywebio?app=index HTTP/1.1\" 200 -\n",
      "127.0.0.1 - - [02/Jun/2023 12:28:42] \"GET /pywebio?app=index HTTP/1.1\" 200 -\n",
      "127.0.0.1 - - [02/Jun/2023 12:28:43] \"GET /pywebio?app=index HTTP/1.1\" 200 -\n",
      "127.0.0.1 - - [02/Jun/2023 12:28:44] \"GET /pywebio?app=index HTTP/1.1\" 200 -\n",
      "127.0.0.1 - - [02/Jun/2023 12:28:45] \"GET /pywebio?app=index HTTP/1.1\" 200 -\n",
      "127.0.0.1 - - [02/Jun/2023 12:28:45] \"POST /pywebio?app=index HTTP/1.1\" 200 -\n"
     ]
    }
   ],
   "source": [
    "from pywebio.input import *\n",
    "from pywebio.output import *\n",
    "from pywebio.platform.flask import webio_view\n",
    "from flask import Flask\n",
    "app = Flask(__name__)\n",
    "\n",
    "def getStarted():\n",
    "    options_list = ['Avatar 2', 'Kantara', \n",
    "                    'Thank God', 'Brahmastra', 'DoctorG']\n",
    "    answer = select(\"Which movie are you planning to watch tonight? \", \n",
    "                    options = options_list, required = True)\n",
    "    put_markdown('Great choice! You will love `%s` movie.' % answer)\n",
    "\n",
    "app.add_url_rule('/pywebio', 'webio_view', webio_view(getStarted), \n",
    "                 methods=['GET', 'POST', 'OPTIONS'])\n",
    "app.run(host='localhost', port=80)\n",
    "\n",
    "# Check out http://localhost/pywebio"
   ]
  },
  {
   "cell_type": "markdown",
   "id": "6509fdf1",
   "metadata": {},
   "source": [
    "# put_text()"
   ]
  },
  {
   "cell_type": "code",
   "execution_count": null,
   "id": "bf41b16d",
   "metadata": {},
   "outputs": [],
   "source": [
    "def getStarted():\n",
    "    put_text('Hello World! Let\\'s get started!')\n",
    "    \n",
    "    name = 'Rishabh'\n",
    "    put_text('My name is %s' % name)\n",
    "    \n",
    "    sname = 'Bafna'\n",
    "    put_text('My name is %s %s' % (name, sname))\n",
    "    \n",
    "    number = 7\n",
    "    pi = 3.142\n",
    "    put_text('Number = %d ; pi value = %f' % (number, pi))"
   ]
  },
  {
   "cell_type": "markdown",
   "id": "5b656fe0",
   "metadata": {},
   "source": [
    "# put_markdown()"
   ]
  },
  {
   "cell_type": "code",
   "execution_count": null,
   "id": "20ec5526",
   "metadata": {},
   "outputs": [],
   "source": [
    "def getStarted():\n",
    "    put_markdown('This is markdown text.')\n",
    "    put_markdown('**This is markdown text.**')\n",
    "    \n",
    "    put_markdown('### This is markdown text.')\n",
    "    put_markdown('### **This is markdown text.**')\n",
    "    \n",
    "    put_markdown('## This is markdown text.')\n",
    "    put_markdown('## **This is markdown text.**')\n",
    "    \n",
    "    put_markdown('# This is markdown text.')\n",
    "    put_markdown('# **This is markdown text.**')"
   ]
  },
  {
   "cell_type": "code",
   "execution_count": null,
   "id": "5b3cac5c",
   "metadata": {},
   "outputs": [],
   "source": [
    "def getStarted():\n",
    "    name = 'Rishabh'\n",
    "    put_markdown('My name is %s' % name)\n",
    "    put_markdown('**My name is %s**' % name)\n",
    "    \n",
    "    put_markdown('### My name is %s' % name)\n",
    "    put_markdown('### **My name is %s**' % name)\n",
    "    \n",
    "    put_markdown('## My name is %s' % name)\n",
    "    put_markdown('## **My name is %s**' % name)\n",
    "    \n",
    "    put_markdown('# My name is %s' % name)\n",
    "    put_markdown('# **My name is %s**' % name)"
   ]
  },
  {
   "cell_type": "code",
   "execution_count": null,
   "id": "fe4ce250",
   "metadata": {},
   "outputs": [],
   "source": [
    "def getStarted():\n",
    "    name = 'Rishabh'\n",
    "    sname = 'Bafna'\n",
    "    put_markdown('My name is %s `%s`' % (name, sname))\n",
    "    put_markdown('**My name is %s `%s`**' % (name, sname))\n",
    "    \n",
    "    put_markdown('### My name is %s `%s`' % (name, sname))\n",
    "    put_markdown('### **My name is %s `%s`**' % (name, sname))\n",
    "    \n",
    "    put_markdown('## My name is %s `%s`' % (name, sname))\n",
    "    put_markdown('## **My name is %s `%s`**' % (name, sname))\n",
    "    \n",
    "    put_markdown('# My name is %s `%s`' % (name, sname))\n",
    "    put_markdown('# **My name is %s `%s`**' % (name, sname))"
   ]
  },
  {
   "cell_type": "markdown",
   "id": "4a7cc995",
   "metadata": {},
   "source": [
    "# put_image()"
   ]
  },
  {
   "cell_type": "code",
   "execution_count": null,
   "id": "c4795656",
   "metadata": {},
   "outputs": [],
   "source": [
    "def getStarted():\n",
    "    pic = 'DestinationPics/Haridwar.jpg'\n",
    "    img = open(pic, 'rb').read()\n",
    "    put_image(img, width='100%')\n",
    "    \n",
    "    put_text('I ❤️️ travelling.')\n",
    "    \n",
    "    image_name = 'Manali'\n",
    "    pic = 'DestinationPics/' + str(image_name) + '.jpg'\n",
    "    img = open(pic, 'rb').read()\n",
    "    put_image(img, width='100%')"
   ]
  },
  {
   "cell_type": "markdown",
   "id": "5d0c8b33",
   "metadata": {},
   "source": [
    "# style()"
   ]
  },
  {
   "cell_type": "code",
   "execution_count": null,
   "id": "3fb376da",
   "metadata": {},
   "outputs": [],
   "source": [
    "def getStarted():\n",
    "    style(put_text('Hello World!'), 'color: red')\n",
    "    \n",
    "    style([put_text('Hello World! '), put_markdown('I am ~~anonymous~~.')], 'color: blue')"
   ]
  },
  {
   "cell_type": "code",
   "execution_count": null,
   "id": "6a3c33ef",
   "metadata": {},
   "outputs": [],
   "source": [
    "def getStarted():\n",
    "    style(put_text('Hello World!'), 'color: red')\n",
    "    \n",
    "    style([put_text('Hello World!'), \n",
    "           put_markdown('I am ~~anonymous~~.')\n",
    "          ], 'color: blue')"
   ]
  },
  {
   "cell_type": "markdown",
   "id": "cc22b3c0",
   "metadata": {},
   "source": [
    "# put_table()"
   ]
  },
  {
   "cell_type": "code",
   "execution_count": null,
   "id": "28ca1eee",
   "metadata": {},
   "outputs": [],
   "source": [
    "def getStarted():\n",
    "    put_table([['Column1', 'Column2'],\n",
    "               ['abc', 1],\n",
    "               ['def', 2],\n",
    "               ['pqrs', 3],\n",
    "               ['xyz', 4],\n",
    "              ])"
   ]
  },
  {
   "cell_type": "markdown",
   "id": "445aaf1d",
   "metadata": {},
   "source": [
    "# put_collapse()"
   ]
  },
  {
   "cell_type": "code",
   "execution_count": null,
   "id": "981516cc",
   "metadata": {},
   "outputs": [],
   "source": [
    "def getStarted():\n",
    "    put_collapse('Surprise!', style([\n",
    "        put_text('LOL! There is no surprise.'),\n",
    "        put_table([['Column1', 'Column2'],\n",
    "               ['abc', 1],\n",
    "               ['def', 2],\n",
    "               ['pqrs', 3],\n",
    "               ['xyz', 4],\n",
    "              ]),\n",
    "        ], 'margin-left:20px'))"
   ]
  },
  {
   "cell_type": "code",
   "execution_count": null,
   "id": "61b2f353",
   "metadata": {},
   "outputs": [],
   "source": [
    "def getStarted():\n",
    "    put_collapse('Know our offerings', style([\n",
    "        put_markdown('✔️ 1 cup of `tea`'),\n",
    "        put_markdown('✔️ 1 cup of `coffee`'),\n",
    "        put_markdown('✔️ 1 cup of `milk`'),\n",
    "        ], 'margin-left:20px'))"
   ]
  },
  {
   "cell_type": "code",
   "execution_count": null,
   "id": "b51e8dcd",
   "metadata": {},
   "outputs": [],
   "source": [
    "def getStarted():\n",
    "    put_collapse('Know our offerings', style([\n",
    "        put_markdown('✔️ 1 cup of `tea`'),\n",
    "        put_markdown('✔️ 1 cup of `coffee`'),\n",
    "        put_markdown('✔️ 1 cup of `milk`'),\n",
    "        ], 'text-align: center'))"
   ]
  },
  {
   "cell_type": "code",
   "execution_count": null,
   "id": "6ff0a7ac",
   "metadata": {},
   "outputs": [],
   "source": [
    "# text-align: center\n",
    "# text-align: left\n",
    "# text-align: right\n",
    "# text-align: justify"
   ]
  },
  {
   "cell_type": "markdown",
   "id": "34c1cb50",
   "metadata": {},
   "source": [
    "# put_html()"
   ]
  },
  {
   "cell_type": "code",
   "execution_count": null,
   "id": "6293e43a",
   "metadata": {},
   "outputs": [],
   "source": [
    "def getStarted():\n",
    "    put_html('<hr>')"
   ]
  },
  {
   "cell_type": "code",
   "execution_count": null,
   "id": "588da4bc",
   "metadata": {},
   "outputs": [],
   "source": [
    "def getStarted():\n",
    "    put_html('<html lang=\"en\" dir=\"ltr\"><head><meta charset=\"utf-8\" /><title> Rishabh Bafna </title><style> body {  background-color: Azure;} </style></head></html>')"
   ]
  },
  {
   "cell_type": "code",
   "execution_count": null,
   "id": "67663ddd",
   "metadata": {},
   "outputs": [],
   "source": [
    "# background-color: coral\n",
    "# background-color: #92a8d1                      # Hexcode\n",
    "# background-color: rgb(201, 76, 76)             # RGB --> Red-Green-Blue\n",
    "# background-color: rgba(201, 76, 76, 0.3)       # RGBA --> Red-Green-Blue-Alpha\n",
    "# background-color: hsl(89, 43%, 51%)            # HSL --> Hue-Saturation-Lightness\n",
    "# background-color: hsla(89, 43%, 51%, 0.3)      # HSLA --> Hue-Saturation-Lightness-Alpha\n",
    "\n",
    "# Alpha indicates opacity of the color."
   ]
  },
  {
   "cell_type": "code",
   "execution_count": null,
   "id": "959c8e5e",
   "metadata": {},
   "outputs": [],
   "source": [
    "def getStarted():\n",
    "    put_html('<h1 style=\"font-size:20px; text-align:center; color:blue; background-color:powderblue;\"> Rishabh Bafna <br> Computer Science Department <br> Stanford University <br> </h1>') \n",
    "    put_html('<hr>')\n",
    "    put_html('<h1 style=\"font-size:20px; text-align:center; color:blue; \"> Rishabh Bafna <br> Computer Science Department <br> Stanford University <br> </h1>') "
   ]
  },
  {
   "cell_type": "code",
   "execution_count": null,
   "id": "d870468b",
   "metadata": {},
   "outputs": [],
   "source": [
    "def getStarted():\n",
    "    put_html('<html lang=\"en\" dir=\"ltr\"><head><meta charset=\"utf-8\" /><title> Rishabh Bafna </title><style> body {  background-color: Azure;} </style></head></html>')\n",
    "    put_html('<h1 style=\"font-size:20px; text-align:center; color:blue; background-color:powderblue;\"> Rishabh Bafna <br> Computer Science Department <br> Stanford University <br> </h1>') \n",
    "    put_html('<hr>')\n",
    "    put_html('<h1 style=\"font-size:20px; text-align:center; color:blue; \"> Rishabh Bafna <br> Computer Science Department <br> Stanford University <br> </h1>') "
   ]
  },
  {
   "cell_type": "markdown",
   "id": "a039f3a5",
   "metadata": {},
   "source": [
    "# put_processbar()"
   ]
  },
  {
   "cell_type": "code",
   "execution_count": null,
   "id": "e7f1d5b8",
   "metadata": {},
   "outputs": [],
   "source": [
    "def getStarted():\n",
    "    import time\n",
    "    put_processbar('bar');\n",
    "    for i in range(1, 11):\n",
    "        set_processbar('bar', i / 10)\n",
    "        time.sleep(0.1)"
   ]
  },
  {
   "cell_type": "markdown",
   "id": "51adfa0d",
   "metadata": {},
   "source": [
    "# input()"
   ]
  },
  {
   "cell_type": "code",
   "execution_count": null,
   "id": "2a16e930",
   "metadata": {},
   "outputs": [],
   "source": [
    "def check_age(age):\n",
    "    if age>30:\n",
    "        return 'Too old'\n",
    "    elif age<10:\n",
    "        return 'Too young'\n",
    "    \n",
    "def getStarted():\n",
    "    age = input('Input your age', type = NUMBER, validate = check_age)\n",
    "    put_text('Your age = %s' % age)"
   ]
  },
  {
   "cell_type": "code",
   "execution_count": null,
   "id": "307b7a43",
   "metadata": {},
   "outputs": [],
   "source": [
    "# Currently, supported input types are：TEXT , NUMBER , FLOAT , PASSWORD , URL , DATE , TIME, COLOR, DATETIME_LOCAL"
   ]
  },
  {
   "cell_type": "markdown",
   "id": "c51c292a",
   "metadata": {},
   "source": [
    "# radio()"
   ]
  },
  {
   "cell_type": "code",
   "execution_count": null,
   "id": "c6066828",
   "metadata": {},
   "outputs": [],
   "source": [
    "def getStarted():\n",
    "    answer = radio(\"Who killed Bahubali? \", options = ['Katappa', 'Devsena', 'Bhallaldeva', 'Shivgami', 'None of these', 'It was a suicide, not murder.'])\n",
    "    if(answer == 'Katappa'):\n",
    "        put_markdown('You are right.')\n",
    "    else:\n",
    "        put_markdown('Please watch `Bahubali 2`!')"
   ]
  },
  {
   "cell_type": "code",
   "execution_count": null,
   "id": "6bc857ca",
   "metadata": {},
   "outputs": [],
   "source": [
    "def getStarted():\n",
    "    options_list = ['Katappa', 'Devsena', 'Bhallaldeva', 'Shivgami', 'None of these', 'It was a suicide, not murder.']\n",
    "    answer = radio(\"Who killed Bahubali? \", options = options_list, required = True)\n",
    "    if(answer == 'Katappa'):\n",
    "        put_markdown('You are right.')\n",
    "    else:\n",
    "        put_markdown('Please watch `Bahubali 2`!')"
   ]
  },
  {
   "cell_type": "code",
   "execution_count": null,
   "id": "13972e61",
   "metadata": {},
   "outputs": [],
   "source": [
    "def getStarted():\n",
    "    options_list = ['Katappa', 'Devsena', 'Bhallaldeva', 'Shivgami', 'None of these', 'It was a suicide, not murder.']\n",
    "    answer = radio(\"Who killed Bahubali? \", options = options_list, inline = True, required = True)\n",
    "    if(answer == 'Katappa'):\n",
    "        put_markdown('You are right.')\n",
    "    else:\n",
    "        put_markdown('Please watch `Bahubali 2`!')"
   ]
  },
  {
   "cell_type": "markdown",
   "id": "a062d270",
   "metadata": {},
   "source": [
    "# select()"
   ]
  },
  {
   "cell_type": "code",
   "execution_count": null,
   "id": "a34a7390",
   "metadata": {},
   "outputs": [],
   "source": [
    "def getStarted():\n",
    "    options_list = ['Avatar 2', 'Kantara', 'Thank God', 'Brahmastra', 'DoctorG']\n",
    "    answer = select(\"Which movie are you planning to watch tonight? \", options = options_list, required = True)\n",
    "    put_markdown('Great choice! You will love `%s` movie.' % answer)"
   ]
  },
  {
   "cell_type": "code",
   "execution_count": null,
   "id": "2a0e9e1a",
   "metadata": {},
   "outputs": [],
   "source": [
    "def getStarted():\n",
    "    options_list = ['Avatar 2', 'Kantara', 'Thank God', 'Brahmastra', 'DoctorG']\n",
    "    answer = select(\"Which movie are you planning to watch tonight? \", options = options_list, multiple = True, required = True)\n",
    "    put_markdown('`%s` will make your day.' % answer)"
   ]
  },
  {
   "cell_type": "code",
   "execution_count": null,
   "id": "c9842f21",
   "metadata": {},
   "outputs": [],
   "source": [
    "def getStarted():\n",
    "    options_list = ['Avatar 2', 'Kantara', 'Thank God', 'Brahmastra', 'DoctorG']\n",
    "    answer = select(\"Which movie are you planning to watch tonight? \", options = options_list, multiple = True, required = True)\n",
    "    put_text('You have selected the following movie(s): \\n')\n",
    "    for movie in answer:\n",
    "        put_text('--> %s' % movie)\n",
    "    if(len(answer) > 2):\n",
    "        put_markdown(\"# Padhaai karo. Exams aane wali hai. \")"
   ]
  },
  {
   "cell_type": "markdown",
   "id": "5177569b",
   "metadata": {},
   "source": [
    "# put_code()"
   ]
  },
  {
   "cell_type": "code",
   "execution_count": null,
   "id": "19fa680e",
   "metadata": {},
   "outputs": [],
   "source": [
    "def getStarted():\n",
    "    code1 = textarea('Text area', code={'mode': \"python\", 'theme': 'darcula'})\n",
    "    put_code(code1, language='python')\n",
    "    put_text('User Entered Code:\\n%s' % code1)\n",
    "    \n",
    "    code2 = textarea('Text area', code={'mode': \"python\", 'theme': 'darcula'})\n",
    "    put_code(code2, language='python')\n",
    "    put_text('User Entered Code:\\n%s' % code2)\n",
    "    \n",
    "    code3 = textarea('Text area', code={'mode': \"python\", 'theme': 'darcula'})\n",
    "    put_code(code3, language='python')\n",
    "    put_text('User Entered Code:\\n%s' % code3)"
   ]
  },
  {
   "cell_type": "markdown",
   "id": "60dcf66b",
   "metadata": {},
   "source": [
    "# actions()"
   ]
  },
  {
   "cell_type": "code",
   "execution_count": null,
   "id": "ddd5e0e0",
   "metadata": {},
   "outputs": [],
   "source": [
    "def getStarted():\n",
    "    options_list = ['Boring', 'Good', 'Great', 'Awesome', 'Fantastic']\n",
    "    answer = actions('How is your day? ', options_list)\n",
    "    put_markdown('Ohh! You just clicked the `%s` button.' % answer)"
   ]
  },
  {
   "cell_type": "markdown",
   "id": "2e76318f",
   "metadata": {},
   "source": [
    "# popup()"
   ]
  },
  {
   "cell_type": "code",
   "execution_count": null,
   "id": "67dffc5f",
   "metadata": {},
   "outputs": [],
   "source": [
    "def getStarted():\n",
    "    options_list = ['Yes', 'No']\n",
    "    answer = actions('Do you want to save your password? ', options_list, help_text = 'We don\\'t share your password to anyone else. This is just for quick login.')\n",
    "    if(answer == 'Yes'):\n",
    "        popup('Congratulations!', 'Your password is saved.', size = PopupSize.SMALL)\n",
    "    else:\n",
    "        popup('Congratulations!', 'Your password is still saved.', size = PopupSize.SMALL)"
   ]
  },
  {
   "cell_type": "markdown",
   "id": "7deb9aaf",
   "metadata": {},
   "source": [
    "# put_row()"
   ]
  },
  {
   "cell_type": "code",
   "execution_count": null,
   "id": "c698ff19",
   "metadata": {},
   "outputs": [],
   "source": [
    "def getStarted():\n",
    "    students = ['Mayank', 'Mrinal', 'Rishabh', 'Param', 'Khitish']\n",
    "    marks = [70,80,99,55,85]\n",
    "    put_row([put_code('Students'), None, put_code('Marks')])\n",
    "    for i in range(len(students)):\n",
    "        put_row([put_text('%s' % students[i]), None, put_text('%d' % marks[i])])"
   ]
  },
  {
   "cell_type": "markdown",
   "id": "4babedd9",
   "metadata": {},
   "source": [
    "# slider()"
   ]
  },
  {
   "cell_type": "code",
   "execution_count": 4,
   "id": "af515fac",
   "metadata": {},
   "outputs": [],
   "source": [
    "def getStarted():\n",
    "    value = slider(\"How much capacity of your brain are you using right now?\")\n",
    "    put_text('Congratulations! You are using %d percentage of your brain.' % value)"
   ]
  },
  {
   "cell_type": "code",
   "execution_count": 6,
   "id": "70973541",
   "metadata": {},
   "outputs": [],
   "source": [
    "def check_capacity(brain_capacity):\n",
    "    if(brain_capacity < 30):\n",
    "        return 'Please drink water!'\n",
    "    if(brain_capacity > 90):\n",
    "        return 'Impossible! Are you Manish?'\n",
    "\n",
    "def getStarted():\n",
    "    value = slider(\"How much capacity of your brain are you using right now?\", type = NUMBER, validate = check_capacity)\n",
    "    put_text('Congratulations! You are using %d percentage of your brain.' % value)"
   ]
  },
  {
   "cell_type": "code",
   "execution_count": 19,
   "id": "c33eae0e",
   "metadata": {},
   "outputs": [
    {
     "name": "stdout",
     "output_type": "stream",
     "text": [
      " * Serving Flask app \"__main__\" (lazy loading)\n",
      " * Environment: production\n",
      "\u001b[31m   WARNING: This is a development server. Do not use it in a production deployment.\u001b[0m\n",
      "\u001b[2m   Use a production WSGI server instead.\u001b[0m\n",
      " * Debug mode: off\n"
     ]
    },
    {
     "name": "stderr",
     "output_type": "stream",
     "text": [
      " * Running on http://localhost:80/ (Press CTRL+C to quit)\n",
      "127.0.0.1 - - [07/Jun/2023 12:05:51] \"GET /pywebio HTTP/1.1\" 200 -\n",
      "127.0.0.1 - - [07/Jun/2023 12:05:51] \"GET /pywebio?app=index&ack=-1 HTTP/1.1\" 200 -\n"
     ]
    }
   ],
   "source": [
    "from pywebio.input import *\n",
    "from pywebio.output import *\n",
    "from pywebio.platform.flask import webio_view\n",
    "from flask import Flask\n",
    "app = Flask(__name__)\n",
    "\n",
    "def getStarted():\n",
    "#     import time \n",
    "#     put_processbar('bar');\n",
    "#     for i in range(1,11):\n",
    "#         set_processbar('bar', i/10)\n",
    "#         time.sleep(0.01)\n",
    "    put_html('<html lang=\"en\" dir=\"ltr\"><head><meta charset=\"utf-8\" /><title> Rishabh Bafna </title><style> body {  background-color: Black;} </style></head></html>')\n",
    "\n",
    "\n",
    "app.add_url_rule('/pywebio', 'webio_view', webio_view(getStarted), methods=['GET', 'POST', 'OPTIONS'])\n",
    "app.run(host='localhost', port=80)\n",
    "\n"
   ]
  },
  {
   "cell_type": "markdown",
   "id": "322b644c",
   "metadata": {},
   "source": [
    "# Rishabh Bafna | Raman Classes, Roorkee\n",
    "Pywebio notes | Creating web interface of ML and/or NLP-based projects"
   ]
  },
  {
   "cell_type": "code",
   "execution_count": null,
   "id": "89590f42",
   "metadata": {},
   "outputs": [],
   "source": []
  }
 ],
 "metadata": {
  "kernelspec": {
   "display_name": "Python 3 (ipykernel)",
   "language": "python",
   "name": "python3"
  },
  "language_info": {
   "codemirror_mode": {
    "name": "ipython",
    "version": 3
   },
   "file_extension": ".py",
   "mimetype": "text/x-python",
   "name": "python",
   "nbconvert_exporter": "python",
   "pygments_lexer": "ipython3",
   "version": "3.9.13"
  }
 },
 "nbformat": 4,
 "nbformat_minor": 5
}
