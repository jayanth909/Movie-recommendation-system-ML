{
 "cells": [
  {
   "cell_type": "code",
   "execution_count": null,
   "id": "eacef507",
   "metadata": {},
   "outputs": [],
   "source": [
    "!pip install pywebio"
   ]
  },
  {
   "cell_type": "code",
   "execution_count": null,
   "id": "bbe6d457",
   "metadata": {},
   "outputs": [
    {
     "name": "stdout",
     "output_type": "stream",
     "text": [
      " * Serving Flask app \"__main__\" (lazy loading)\n",
      " * Environment: production\n",
      "\u001b[31m   WARNING: This is a development server. Do not use it in a production deployment.\u001b[0m\n",
      "\u001b[2m   Use a production WSGI server instead.\u001b[0m\n",
      " * Debug mode: off\n"
     ]
    },
    {
     "name": "stderr",
     "output_type": "stream",
     "text": [
      " * Running on http://localhost:80/ (Press CTRL+C to quit)\n",
      "127.0.0.1 - - [07/Jun/2023 11:16:13] \"GET /pywebio?app=index HTTP/1.1\" 200 -\n",
      "127.0.0.1 - - [07/Jun/2023 11:16:13] \"GET /pywebio?app=index HTTP/1.1\" 200 -\n",
      "127.0.0.1 - - [07/Jun/2023 11:16:14] \"GET /pywebio HTTP/1.1\" 200 -\n",
      "127.0.0.1 - - [07/Jun/2023 11:16:14] \"GET /pywebio?app=index HTTP/1.1\" 200 -\n",
      "127.0.0.1 - - [07/Jun/2023 11:16:15] \"GET /pywebio?app=index HTTP/1.1\" 200 -\n",
      "127.0.0.1 - - [07/Jun/2023 11:16:16] \"GET /pywebio?app=index HTTP/1.1\" 200 -\n",
      "127.0.0.1 - - [07/Jun/2023 11:16:17] \"GET /pywebio?app=index HTTP/1.1\" 200 -\n",
      "127.0.0.1 - - [07/Jun/2023 11:16:18] \"GET /pywebio?app=index HTTP/1.1\" 200 -\n",
      "127.0.0.1 - - [07/Jun/2023 11:16:19] \"GET /pywebio?app=index HTTP/1.1\" 200 -\n",
      "127.0.0.1 - - [07/Jun/2023 11:16:20] \"GET /pywebio?app=index HTTP/1.1\" 200 -\n",
      "127.0.0.1 - - [07/Jun/2023 11:16:21] \"GET /pywebio?app=index HTTP/1.1\" 200 -\n",
      "127.0.0.1 - - [07/Jun/2023 11:16:22] \"GET /pywebio?app=index HTTP/1.1\" 200 -\n",
      "127.0.0.1 - - [07/Jun/2023 11:16:23] \"GET /pywebio?app=index HTTP/1.1\" 200 -\n",
      "127.0.0.1 - - [07/Jun/2023 11:16:24] \"GET /pywebio?app=index HTTP/1.1\" 200 -\n",
      "127.0.0.1 - - [07/Jun/2023 11:16:25] \"GET /pywebio?app=index HTTP/1.1\" 200 -\n",
      "127.0.0.1 - - [07/Jun/2023 11:16:26] \"GET /pywebio?app=index HTTP/1.1\" 200 -\n",
      "127.0.0.1 - - [07/Jun/2023 11:16:27] \"GET /pywebio?app=index HTTP/1.1\" 200 -\n",
      "127.0.0.1 - - [07/Jun/2023 11:16:27] \"POST /pywebio?app=index HTTP/1.1\" 200 -\n",
      "127.0.0.1 - - [07/Jun/2023 11:16:32] \"GET /pywebio HTTP/1.1\" 200 -\n",
      "127.0.0.1 - - [07/Jun/2023 11:16:32] \"GET /pywebio?app=index HTTP/1.1\" 200 -\n",
      "127.0.0.1 - - [07/Jun/2023 11:16:33] \"GET /pywebio?app=index HTTP/1.1\" 200 -\n",
      "127.0.0.1 - - [07/Jun/2023 11:16:33] \"POST /pywebio?app=index HTTP/1.1\" 200 -\n",
      "127.0.0.1 - - [07/Jun/2023 11:16:40] \"GET /pywebio HTTP/1.1\" 200 -\n",
      "127.0.0.1 - - [07/Jun/2023 11:16:40] \"GET /pywebio?app=index HTTP/1.1\" 200 -\n",
      "127.0.0.1 - - [07/Jun/2023 11:16:41] \"GET /pywebio?app=index HTTP/1.1\" 200 -\n",
      "127.0.0.1 - - [07/Jun/2023 11:16:42] \"GET /pywebio?app=index HTTP/1.1\" 200 -\n",
      "127.0.0.1 - - [07/Jun/2023 11:16:43] \"GET /pywebio?app=index HTTP/1.1\" 200 -\n",
      "127.0.0.1 - - [07/Jun/2023 11:16:44] \"GET /pywebio?app=index HTTP/1.1\" 200 -\n",
      "127.0.0.1 - - [07/Jun/2023 11:16:45] \"GET /pywebio?app=index HTTP/1.1\" 200 -\n",
      "127.0.0.1 - - [07/Jun/2023 11:16:46] \"GET /pywebio?app=index HTTP/1.1\" 200 -\n",
      "127.0.0.1 - - [07/Jun/2023 11:16:47] \"GET /pywebio?app=index HTTP/1.1\" 200 -\n",
      "127.0.0.1 - - [07/Jun/2023 11:16:48] \"GET /pywebio?app=index HTTP/1.1\" 200 -\n",
      "127.0.0.1 - - [07/Jun/2023 11:16:49] \"GET /pywebio?app=index HTTP/1.1\" 200 -\n",
      "127.0.0.1 - - [07/Jun/2023 11:16:50] \"GET /pywebio?app=index HTTP/1.1\" 200 -\n",
      "127.0.0.1 - - [07/Jun/2023 11:16:51] \"GET /pywebio?app=index HTTP/1.1\" 200 -\n",
      "127.0.0.1 - - [07/Jun/2023 11:16:52] \"GET /pywebio?app=index HTTP/1.1\" 200 -\n",
      "127.0.0.1 - - [07/Jun/2023 11:16:53] \"GET /pywebio?app=index HTTP/1.1\" 200 -\n",
      "127.0.0.1 - - [07/Jun/2023 11:16:54] \"GET /pywebio?app=index HTTP/1.1\" 200 -\n",
      "127.0.0.1 - - [07/Jun/2023 11:16:55] \"GET /pywebio?app=index HTTP/1.1\" 200 -\n",
      "127.0.0.1 - - [07/Jun/2023 11:16:56] \"GET /pywebio?app=index HTTP/1.1\" 200 -\n",
      "127.0.0.1 - - [07/Jun/2023 11:16:57] \"GET /pywebio?app=index HTTP/1.1\" 200 -\n",
      "127.0.0.1 - - [07/Jun/2023 11:16:58] \"GET /pywebio?app=index HTTP/1.1\" 200 -\n",
      "127.0.0.1 - - [07/Jun/2023 11:16:59] \"GET /pywebio?app=index HTTP/1.1\" 200 -\n",
      "127.0.0.1 - - [07/Jun/2023 11:17:00] \"GET /pywebio?app=index HTTP/1.1\" 200 -\n",
      "127.0.0.1 - - [07/Jun/2023 11:17:01] \"GET /pywebio?app=index HTTP/1.1\" 200 -\n",
      "127.0.0.1 - - [07/Jun/2023 11:17:02] \"GET /pywebio?app=index HTTP/1.1\" 200 -\n",
      "127.0.0.1 - - [07/Jun/2023 11:17:03] \"GET /pywebio?app=index HTTP/1.1\" 200 -\n",
      "127.0.0.1 - - [07/Jun/2023 11:17:04] \"GET /pywebio?app=index HTTP/1.1\" 200 -\n",
      "127.0.0.1 - - [07/Jun/2023 11:17:05] \"GET /pywebio?app=index HTTP/1.1\" 200 -\n",
      "127.0.0.1 - - [07/Jun/2023 11:17:06] \"GET /pywebio?app=index HTTP/1.1\" 200 -\n",
      "127.0.0.1 - - [07/Jun/2023 11:17:07] \"GET /pywebio?app=index HTTP/1.1\" 200 -\n",
      "127.0.0.1 - - [07/Jun/2023 11:17:08] \"GET /pywebio?app=index HTTP/1.1\" 200 -\n",
      "127.0.0.1 - - [07/Jun/2023 11:17:09] \"GET /pywebio?app=index HTTP/1.1\" 200 -\n",
      "127.0.0.1 - - [07/Jun/2023 11:17:10] \"GET /pywebio?app=index HTTP/1.1\" 200 -\n",
      "127.0.0.1 - - [07/Jun/2023 11:17:11] \"GET /pywebio?app=index HTTP/1.1\" 200 -\n",
      "127.0.0.1 - - [07/Jun/2023 11:17:12] \"GET /pywebio?app=index HTTP/1.1\" 200 -\n",
      "127.0.0.1 - - [07/Jun/2023 11:17:13] \"GET /pywebio?app=index HTTP/1.1\" 200 -\n",
      "127.0.0.1 - - [07/Jun/2023 11:17:14] \"GET /pywebio?app=index HTTP/1.1\" 200 -\n",
      "127.0.0.1 - - [07/Jun/2023 11:17:15] \"GET /pywebio?app=index HTTP/1.1\" 200 -\n",
      "127.0.0.1 - - [07/Jun/2023 11:17:16] \"GET /pywebio?app=index HTTP/1.1\" 200 -\n",
      "127.0.0.1 - - [07/Jun/2023 11:17:17] \"GET /pywebio?app=index HTTP/1.1\" 200 -\n",
      "127.0.0.1 - - [07/Jun/2023 11:17:18] \"GET /pywebio?app=index HTTP/1.1\" 200 -\n",
      "127.0.0.1 - - [07/Jun/2023 11:17:19] \"GET /pywebio?app=index HTTP/1.1\" 200 -\n",
      "127.0.0.1 - - [07/Jun/2023 11:17:20] \"GET /pywebio?app=index HTTP/1.1\" 200 -\n",
      "127.0.0.1 - - [07/Jun/2023 11:17:21] \"GET /pywebio?app=index HTTP/1.1\" 200 -\n",
      "127.0.0.1 - - [07/Jun/2023 11:17:22] \"GET /pywebio?app=index HTTP/1.1\" 200 -\n",
      "127.0.0.1 - - [07/Jun/2023 11:17:23] \"GET /pywebio?app=index HTTP/1.1\" 200 -\n",
      "127.0.0.1 - - [07/Jun/2023 11:17:24] \"GET /pywebio?app=index HTTP/1.1\" 200 -\n",
      "127.0.0.1 - - [07/Jun/2023 11:17:25] \"GET /pywebio?app=index HTTP/1.1\" 200 -\n",
      "127.0.0.1 - - [07/Jun/2023 11:17:26] \"GET /pywebio?app=index HTTP/1.1\" 200 -\n",
      "127.0.0.1 - - [07/Jun/2023 11:17:27] \"GET /pywebio?app=index HTTP/1.1\" 200 -\n",
      "127.0.0.1 - - [07/Jun/2023 11:17:28] \"GET /pywebio?app=index HTTP/1.1\" 200 -\n",
      "127.0.0.1 - - [07/Jun/2023 11:17:29] \"GET /pywebio?app=index HTTP/1.1\" 200 -\n",
      "127.0.0.1 - - [07/Jun/2023 11:17:30] \"GET /pywebio?app=index HTTP/1.1\" 200 -\n",
      "127.0.0.1 - - [07/Jun/2023 11:17:31] \"GET /pywebio?app=index HTTP/1.1\" 200 -\n",
      "127.0.0.1 - - [07/Jun/2023 11:17:32] \"GET /pywebio?app=index HTTP/1.1\" 200 -\n",
      "127.0.0.1 - - [07/Jun/2023 11:17:33] \"GET /pywebio?app=index HTTP/1.1\" 200 -\n",
      "127.0.0.1 - - [07/Jun/2023 11:17:34] \"GET /pywebio?app=index HTTP/1.1\" 200 -\n",
      "127.0.0.1 - - [07/Jun/2023 11:17:35] \"GET /pywebio?app=index HTTP/1.1\" 200 -\n",
      "127.0.0.1 - - [07/Jun/2023 11:17:36] \"GET /pywebio?app=index HTTP/1.1\" 200 -\n",
      "127.0.0.1 - - [07/Jun/2023 11:17:37] \"GET /pywebio?app=index HTTP/1.1\" 200 -\n",
      "127.0.0.1 - - [07/Jun/2023 11:17:38] \"GET /pywebio?app=index HTTP/1.1\" 200 -\n",
      "127.0.0.1 - - [07/Jun/2023 11:17:39] \"GET /pywebio?app=index HTTP/1.1\" 200 -\n",
      "127.0.0.1 - - [07/Jun/2023 11:17:40] \"GET /pywebio?app=index HTTP/1.1\" 200 -\n",
      "127.0.0.1 - - [07/Jun/2023 11:17:41] \"GET /pywebio?app=index HTTP/1.1\" 200 -\n",
      "127.0.0.1 - - [07/Jun/2023 11:17:58] \"GET /pywebio?app=index HTTP/1.1\" 200 -\n",
      "127.0.0.1 - - [07/Jun/2023 11:18:58] \"GET /pywebio?app=index HTTP/1.1\" 200 -\n",
      "127.0.0.1 - - [07/Jun/2023 11:19:58] \"GET /pywebio?app=index HTTP/1.1\" 200 -\n",
      "127.0.0.1 - - [07/Jun/2023 11:20:58] \"GET /pywebio?app=index HTTP/1.1\" 200 -\n",
      "127.0.0.1 - - [07/Jun/2023 11:21:58] \"GET /pywebio?app=index HTTP/1.1\" 200 -\n",
      "127.0.0.1 - - [07/Jun/2023 11:22:58] \"GET /pywebio?app=index HTTP/1.1\" 200 -\n",
      "127.0.0.1 - - [07/Jun/2023 11:23:58] \"GET /pywebio?app=index HTTP/1.1\" 200 -\n",
      "127.0.0.1 - - [07/Jun/2023 11:24:58] \"GET /pywebio?app=index HTTP/1.1\" 200 -\n",
      "127.0.0.1 - - [07/Jun/2023 11:25:58] \"GET /pywebio?app=index HTTP/1.1\" 200 -\n",
      "127.0.0.1 - - [07/Jun/2023 11:26:58] \"GET /pywebio?app=index HTTP/1.1\" 200 -\n",
      "127.0.0.1 - - [07/Jun/2023 11:27:58] \"GET /pywebio?app=index HTTP/1.1\" 200 -\n",
      "127.0.0.1 - - [07/Jun/2023 11:28:58] \"GET /pywebio?app=index HTTP/1.1\" 200 -\n"
     ]
    }
   ],
   "source": [
    "from pywebio.input import *\n",
    "from pywebio.output import *\n",
    "from pywebio.platform.flask import webio_view\n",
    "from flask import Flask\n",
    "app = Flask(__name__)\n",
    "\n",
    "def getStarted():\n",
    "    options_list = ['Yes', 'No']\n",
    "    answer = actions('Do you want to save your password? ', \n",
    "                     options_list, \n",
    "                     help_text = 'We don\\'t share your password to anyone else.\\\n",
    "                     This is just for quick login.')\n",
    "    if(answer == 'Yes'):\n",
    "        popup('Congratulations!', 'Your password is saved.', \n",
    "              size = PopupSize.SMALL)\n",
    "    else:\n",
    "        popup('Congratulations!', 'Your password is still saved.', \n",
    "              size = PopupSize.SMALL)\n",
    "    \n",
    "app.add_url_rule('/pywebio', 'webio_view', webio_view(getStarted), \n",
    "                 methods=['GET', 'POST', 'OPTIONS'])\n",
    "app.run(host='localhost', port=80)"
   ]
  },
  {
   "cell_type": "code",
   "execution_count": null,
   "id": "35a4f238",
   "metadata": {},
   "outputs": [],
   "source": []
  },
  {
   "cell_type": "code",
   "execution_count": null,
   "id": "0bb279f9",
   "metadata": {},
   "outputs": [],
   "source": []
  },
  {
   "cell_type": "code",
   "execution_count": 5,
   "id": "b2949449",
   "metadata": {},
   "outputs": [
    {
     "name": "stdout",
     "output_type": "stream",
     "text": [
      " * Serving Flask app \"__main__\" (lazy loading)\n",
      " * Environment: production\n",
      "\u001b[31m   WARNING: This is a development server. Do not use it in a production deployment.\u001b[0m\n",
      "\u001b[2m   Use a production WSGI server instead.\u001b[0m\n",
      " * Debug mode: off\n"
     ]
    },
    {
     "name": "stderr",
     "output_type": "stream",
     "text": [
      " * Running on http://localhost:80/ (Press CTRL+C to quit)\n"
     ]
    }
   ],
   "source": [
    "from pywebio.input import *\n",
    "from pywebio.output import *\n",
    "from pywebio.platform.flask import webio_view\n",
    "from flask import Flask\n",
    "app = Flask(__name__)\n",
    "\n",
    "def getStarted():\n",
    "    put_html('<html lang=\"en\" dir=\"ltr\"><head><meta charset=\"utf-8\" /><title> Rishabh Bafna </title><style> body {  background-color: coral;} </style></head></html>')\n",
    "    put_html('<h1 style=\"font-size:20px; text-align:center; color:blue; background-color:powderblue;\"> Rishabh Bafna <br> Computer Science Department <br> Stanford University <br> </h1>') \n",
    "    put_html('<hr>')\n",
    "    put_html('<h1 style=\"font-size:20px; text-align:center; color:blue; \"> Rishabh Bafna <br> Computer Science Department <br> Stanford University <br> </h1>') \n",
    "    \n",
    "app.add_url_rule('/pywebio', 'webio_view', webio_view(getStarted), \n",
    "                 methods=['GET', 'POST', 'OPTIONS'])\n",
    "app.run(host='localhost', port=80)"
   ]
  }
 ],
 "metadata": {
  "kernelspec": {
   "display_name": "Python 3 (ipykernel)",
   "language": "python",
   "name": "python3"
  },
  "language_info": {
   "codemirror_mode": {
    "name": "ipython",
    "version": 3
   },
   "file_extension": ".py",
   "mimetype": "text/x-python",
   "name": "python",
   "nbconvert_exporter": "python",
   "pygments_lexer": "ipython3",
   "version": "3.9.12"
  }
 },
 "nbformat": 4,
 "nbformat_minor": 5
}
