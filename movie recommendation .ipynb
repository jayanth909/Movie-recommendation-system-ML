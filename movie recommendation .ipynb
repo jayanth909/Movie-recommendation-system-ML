{
 "cells": [
  {
   "cell_type": "code",
   "execution_count": null,
   "id": "2355d6f7",
   "metadata": {},
   "outputs": [],
   "source": [
    "import pandas as pd\n",
    "import numpy as np\n",
    "#  from matplotlib.pyplot as plt"
   ]
  },
  {
   "cell_type": "code",
   "execution_count": null,
   "id": "c3d2faf5",
   "metadata": {},
   "outputs": [],
   "source": [
    "column_names = [\"movie id\", \"movie title\", \"release date\", \"video release date\",\n",
    "\"IMDb URL\", \"unknown\", \"Action\", \"Adventure\", \"Animation\",\n",
    "\"Children's\", \"Comedy\", \"Crime\", \"Documentary\", \"Drama\", \"Fantasy\",\n",
    "\"Film-Noir\", \"Horror\", \"Musical\", \"Mystery\", \"Romance\", \"Sci-Fi\",\n",
    "\"Thriller\", \"War\", \"Western\"]"
   ]
  },
  {
   "cell_type": "code",
   "execution_count": null,
   "id": "9c8e14f3",
   "metadata": {
    "scrolled": true
   },
   "outputs": [],
   "source": [
    "item = pd.read_csv(\"ml-100k/u.item\", sep = '|',names = column_names ,encoding = 'latin-1')"
   ]
  },
  {
   "cell_type": "code",
   "execution_count": null,
   "id": "5d396cdf",
   "metadata": {},
   "outputs": [],
   "source": [
    "item.head()"
   ]
  },
  {
   "cell_type": "code",
   "execution_count": null,
   "id": "38c1fee0",
   "metadata": {},
   "outputs": [],
   "source": [
    "item.loc[0]['movie title']"
   ]
  },
  {
   "cell_type": "code",
   "execution_count": null,
   "id": "e81374e4",
   "metadata": {},
   "outputs": [],
   "source": [
    "index_movie_dict = {}\n",
    "for i in range(len(item)):\n",
    "    index_movie_dict[i] = item.loc[i]['movie title']"
   ]
  },
  {
   "cell_type": "code",
   "execution_count": null,
   "id": "f94b2d11",
   "metadata": {},
   "outputs": [],
   "source": [
    "index_movie_dict"
   ]
  },
  {
   "cell_type": "markdown",
   "id": "4327fa44",
   "metadata": {},
   "source": [
    "# Creating  movie index dict\n",
    "key = movie title ; value = index "
   ]
  },
  {
   "cell_type": "code",
   "execution_count": null,
   "id": "cbac66ac",
   "metadata": {},
   "outputs": [],
   "source": [
    "movie_index_dict = {}\n",
    "for i in range(len(item)):\n",
    "    movie_index_dict[item.loc[i]['movie title']] = i\n"
   ]
  },
  {
   "cell_type": "code",
   "execution_count": null,
   "id": "45cc5ee9",
   "metadata": {},
   "outputs": [],
   "source": [
    "movie_index_dict"
   ]
  },
  {
   "cell_type": "code",
   "execution_count": null,
   "id": "da4c3fc3",
   "metadata": {},
   "outputs": [],
   "source": [
    "# drop uncesssary columns"
   ]
  },
  {
   "cell_type": "code",
   "execution_count": null,
   "id": "8190c225",
   "metadata": {},
   "outputs": [],
   "source": [
    "item.drop([ 'movie id',\"movie title\",\"release date\", \"video release date\",\n",
    "\"IMDb URL\"], axis = 1 , inplace = True)"
   ]
  },
  {
   "cell_type": "code",
   "execution_count": null,
   "id": "64830d95",
   "metadata": {},
   "outputs": [],
   "source": [
    "item"
   ]
  },
  {
   "cell_type": "code",
   "execution_count": null,
   "id": "1558dd46",
   "metadata": {},
   "outputs": [],
   "source": [
    "from sklearn.metrics.pairwise import cosine_similarity \n",
    "similarity_matrix = cosine_similarity(item)"
   ]
  },
  {
   "cell_type": "code",
   "execution_count": null,
   "id": "7a08256e",
   "metadata": {},
   "outputs": [],
   "source": [
    "similarity_matrix"
   ]
  },
  {
   "cell_type": "code",
   "execution_count": null,
   "id": "68320c93",
   "metadata": {
    "scrolled": true
   },
   "outputs": [],
   "source": [
    "recently_watched_movie = input('Enter your recently wateched movie ? ')\n",
    "num_recommendations = int(input(\"enter the num of recommedation ? \"))\n"
   ]
  },
  {
   "cell_type": "code",
   "execution_count": null,
   "id": "a1c60f38",
   "metadata": {},
   "outputs": [],
   "source": [
    "idx = movie_index_dict[recently_watched_movie]"
   ]
  },
  {
   "cell_type": "code",
   "execution_count": null,
   "id": "6cee0141",
   "metadata": {
    "scrolled": false
   },
   "outputs": [],
   "source": [
    "\n",
    "lst = []\n",
    "for i in range(len(similarity_matrix)):\n",
    "    lst.append((similarity_matrix[idx][i],i))\n",
    "    lst.sort(reverse = True)\n",
    "lst.sort(reverse = True)\n",
    "recommendations = []\n",
    "for i in range(len(lst)):\n",
    "    recommendations.append(index_movie_dict[lst[i][1]])\n",
    "recommendations.remove(recently_watched_movie)\n",
    "\n"
   ]
  },
  {
   "cell_type": "code",
   "execution_count": null,
   "id": "0e217be0",
   "metadata": {},
   "outputs": [],
   "source": [
    "recommendations[:num_recommendations]\n"
   ]
  },
  {
   "cell_type": "code",
   "execution_count": null,
   "id": "37c5ea37",
   "metadata": {},
   "outputs": [],
   "source": [
    "answer = radio(\"who killed bahubali?\",\n",
    "              options=['katappa','devsana','sivagami','balla','shivbro','nenaithe kaadu bro','chimtu bro','model bro'])\n",
    "    if(answer == 'chimtu bro'):\n",
    "        put_markdown('u r correct.')\n",
    "    else:\n",
    "        put_markdown('next part dheeko')\n",
    "\n",
    "options_list = ['avtar','kantara','mentalkrisha','omg','mg']\n",
    "answer = select(\"come to this movie\",\n",
    "               options = options_list, required = True)\n",
    "put_markdown('great choice!love to watch `%s` )"
   ]
  },
  {
   "cell_type": "code",
   "execution_count": null,
   "id": "98335a03",
   "metadata": {},
   "outputs": [],
   "source": []
  }
 ],
 "metadata": {
  "kernelspec": {
   "display_name": "Python 3 (ipykernel)",
   "language": "python",
   "name": "python3"
  },
  "language_info": {
   "codemirror_mode": {
    "name": "ipython",
    "version": 3
   },
   "file_extension": ".py",
   "mimetype": "text/x-python",
   "name": "python",
   "nbconvert_exporter": "python",
   "pygments_lexer": "ipython3",
   "version": "3.9.13"
  }
 },
 "nbformat": 4,
 "nbformat_minor": 5
}
