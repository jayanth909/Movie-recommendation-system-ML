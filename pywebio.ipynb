{
 "cells": [
  {
   "cell_type": "code",
   "execution_count": null,
   "id": "80a86999",
   "metadata": {
    "scrolled": true
   },
   "outputs": [],
   "source": [
    "#!pip install pywebio"
   ]
  },
  {
   "cell_type": "code",
   "execution_count": null,
   "id": "7a65a6c4",
   "metadata": {},
   "outputs": [],
   "source": [
    "import pandas as pd\n",
    "\n",
    "\n",
    "column_names = [\"movie id\", \"movie title\", \"release date\", \"video release date\",\n",
    "\"IMDb URL\", \"unknown\", \"Action\", \"Adventure\", \"Animation\",\n",
    "\"Children's\", \"Comedy\", \"Crime\", \"Documentary\", \"Drama\", \"Fantasy\",\n",
    "\"Film-Noir\", \"Horror\", \"Musical\", \"Mystery\", \"Romance\", \"Sci-Fi\",\n",
    "\"Thriller\", \"War\", \"Western\"]\n",
    "\n",
    "item = pd.read_csv(\"ml-100k/u.item\", sep = '|',names = column_names ,encoding = 'latin-1')"
   ]
  },
  {
   "cell_type": "code",
   "execution_count": null,
   "id": "451020ac",
   "metadata": {},
   "outputs": [],
   "source": [
    "x = item[\"movie title\"]"
   ]
  },
  {
   "cell_type": "code",
   "execution_count": null,
   "id": "e9b9c3d2",
   "metadata": {},
   "outputs": [],
   "source": [
    "from pywebio.input import *\n",
    "from pywebio.output import *\n",
    "from pywebio.platform.flask import webio_view \n",
    "from flask import Flask\n",
    "app = Flask(__name__)\n",
    "\n",
    "def getstarted():\n",
    "   \n",
    "    put_markdown(\"# Movie recommendation system\")\n",
    "    pic = \"recommendation.jpeg\"\n",
    "    img = open(pic ,'rb').read()\n",
    "    put_image(img , width = '100%')\n",
    "    options_list = x\n",
    "    answer = select(\"which movie are u planning to watch tonight ? : \" , options = options_list ,multiple = True , required = True)\n",
    "    \n",
    "#     answer = radio(\"who killed bahubali?\", options=['katappa','devsana','nenaithe kaadu bro','chintu bro','model bro'])\n",
    "  \n",
    "  #     if(answer == 'chimtu bro'):\n",
    "#         put_markdown('# `Your correct.`')\n",
    "#     else:\n",
    "#         put_markdown('# `Next part dheeko`')\n",
    "    \n",
    "    \n",
    "    \n",
    "app.add_url_rule('/pywebio' , 'webio_view' ,webio_view(getstarted) , methods = [ 'GET', 'POST','OPTIONS'] )\n",
    "\n",
    "app.run(host = 'localhost' , port = 80)\n",
    "#  % is format specifier"
   ]
  },
  {
   "cell_type": "markdown",
   "id": "cb2ffe95",
   "metadata": {},
   "source": [
    "# Put_text:\n",
    "    "
   ]
  },
  {
   "cell_type": "code",
   "execution_count": null,
   "id": "11f6e8c1",
   "metadata": {},
   "outputs": [],
   "source": [
    "\n",
    "def getstarted():\n",
    "    put_text('hello World')\n",
    "    name = \"jayanth\"\n",
    "    put_text(\"my name is %s\" %name)\n",
    "    number = 7\n",
    "    pi = 3.142\n",
    "    put_text('number = %d ; pi value = %f '% (number,pi))\n",
    "    "
   ]
  },
  {
   "cell_type": "markdown",
   "id": "e65af60b",
   "metadata": {},
   "source": [
    "# Markdown text :\n",
    "    "
   ]
  },
  {
   "cell_type": "code",
   "execution_count": null,
   "id": "5d73d3a8",
   "metadata": {},
   "outputs": [],
   "source": [
    "def getstarted():\n",
    "    put_markdown(\"put_markdown(\"\")\")\n",
    "    put_markdown(\"**put_markdown(\"\")**\")\n",
    "    put_markdown(\"###put_markdown(\"\")\")\n",
    "    put_markdown(\"##put_markdown(\"\")\")\n",
    "    put_markdown(\"#put_markdown(\"\")\")"
   ]
  },
  {
   "cell_type": "markdown",
   "id": "2e7ca81e",
   "metadata": {},
   "source": [
    "# Put img:\n",
    "    "
   ]
  },
  {
   "cell_type": "code",
   "execution_count": null,
   "id": "11bb8c76",
   "metadata": {},
   "outputs": [],
   "source": [
    "def getstarted():\n",
    "    put_markdown(\"# Movie recommendation system\")\n",
    "    pic = \"recommendation.jpeg\"\n",
    "    img = open(pic ,'rb').read()\n",
    "    put_image(img , width = '100%')\n",
    "    "
   ]
  },
  {
   "cell_type": "code",
   "execution_count": null,
   "id": "c6fdbbf1",
   "metadata": {},
   "outputs": [],
   "source": [
    "answer = radio(\"who killed bahubali?\",options=['katappa','devsana','sivagami','balla','shivbro','nenaithe kaadu bro','chimtu bro','model bro'])\n",
    "\n",
    "if(answer == 'chimtu bro'):\n",
    "        put_markdown('u r correct.')\n",
    "else:\n",
    "        put_markdown('next part dheeko')\n",
    "\n",
    "options_list = ['avtar','kantara','mentalkrisha','omg','mg']\n",
    "answer = select(\"come to this movie\",\n",
    "               options = options_list, required = True)\n",
    "put_markdown('great choice!love to watch `%s` ')\n",
    "                \n",
    "app.add_url_rule('/pywebio' , 'webio_view' ,webio_view(getstarted) , methods = [ 'GET', 'POST','OPTIONS'] )\n",
    "\n",
    "app.run(host = 'localhost' , port = 80)"
   ]
  },
  {
   "cell_type": "code",
   "execution_count": null,
   "id": "60c44da6",
   "metadata": {},
   "outputs": [],
   "source": [
    "from pywebio.input import *\n",
    "from pywebio.output import *\n",
    "from pywebio.platform.flask import webio_view \n",
    "from flask import Flask\n",
    "app = Flask(__name__)\n",
    "\n",
    "def getstarted():\n",
    "    options_list = []"
   ]
  },
  {
   "cell_type": "code",
   "execution_count": null,
   "id": "364b9c46",
   "metadata": {},
   "outputs": [
    {
     "name": "stdout",
     "output_type": "stream",
     "text": [
      " * Serving Flask app \"__main__\" (lazy loading)\n",
      " * Environment: production\n",
      "\u001b[31m   WARNING: This is a development server. Do not use it in a production deployment.\u001b[0m\n",
      "\u001b[2m   Use a production WSGI server instead.\u001b[0m\n",
      " * Debug mode: off\n"
     ]
    },
    {
     "name": "stderr",
     "output_type": "stream",
     "text": [
      " * Running on http://localhost:80/ (Press CTRL+C to quit)\n",
      "127.0.0.1 - - [07/Jun/2023 11:29:41] \"GET /pywebio HTTP/1.1\" 200 -\n",
      "127.0.0.1 - - [07/Jun/2023 11:29:41] \"GET /pywebio?app=index&ack=-1 HTTP/1.1\" 200 -\n",
      "127.0.0.1 - - [07/Jun/2023 11:29:42] \"GET /pywebio?app=index&ack=0 HTTP/1.1\" 200 -\n",
      "Unhandled error in pywebio app\n",
      "Traceback (most recent call last):\n",
      "  File \"C:\\Users\\ravic\\anaconda3\\lib\\site-packages\\pywebio\\session\\threadbased.py\", line 86, in main_task\n",
      "    target()\n",
      "  File \"C:\\Users\\ravic\\AppData\\Local\\Temp\\ipykernel_2808\\626729394.py\", line 13, in getstarted\n",
      "    if (answer == 'yes'):\n",
      "NameError: name 'answer' is not defined\n",
      "127.0.0.1 - - [07/Jun/2023 11:29:43] \"POST /pywebio?app=index&ack=0&seq=0 HTTP/1.1\" 200 -\n",
      "127.0.0.1 - - [07/Jun/2023 11:33:17] \"GET /pywebio HTTP/1.1\" 200 -\n",
      "127.0.0.1 - - [07/Jun/2023 11:33:18] \"GET /pywebio?app=index&ack=-1 HTTP/1.1\" 200 -\n",
      "127.0.0.1 - - [07/Jun/2023 11:33:19] \"GET /pywebio?app=index&ack=0 HTTP/1.1\" 200 -\n",
      "Unhandled error in pywebio app\n",
      "Traceback (most recent call last):\n",
      "  File \"C:\\Users\\ravic\\anaconda3\\lib\\site-packages\\pywebio\\session\\threadbased.py\", line 86, in main_task\n",
      "    target()\n",
      "  File \"C:\\Users\\ravic\\AppData\\Local\\Temp\\ipykernel_2808\\626729394.py\", line 13, in getstarted\n",
      "    if (answer == 'yes'):\n",
      "NameError: name 'answer' is not defined\n",
      "127.0.0.1 - - [07/Jun/2023 11:33:19] \"POST /pywebio?app=index&ack=0&seq=0 HTTP/1.1\" 200 -\n"
     ]
    }
   ],
   "source": [
    "import pandas as pd\n",
    "import numpy as np\n",
    "# from matplotlib.pyplot as plt\n",
    "from pywebio.input import *\n",
    "from pywebio.output import *\n",
    "from pywebio.platform.flask import webio_view \n",
    "from flask import Flask\n",
    "\n",
    "app = Flask (__name__) \n",
    "def getstarted():\n",
    "    options_list = ['yes','no']\n",
    "    anwer = actions('do u want to save your password ?', options_list, help_text = 'we dont share ur pass to anyone else')\n",
    "    if (answer == 'yes'):\n",
    "        popup = actions ('congo', 'ur password is saved', size = PopupSize.SMALL)\n",
    "    else :\n",
    "        popup = actions ('congo', 'ur password is still saved', size = PopupSize.SMALL)\n",
    "\n",
    "  \n",
    "\n",
    "  \n",
    "app.add_url_rule('/pywebio' , 'webio_view' ,webio_view(getstarted) , methods = [ 'GET', 'POST','OPTIONS'] )\n",
    "app.run(host = 'localhost' , port = 80)"
   ]
  },
  {
   "cell_type": "code",
   "execution_count": null,
   "id": "27788757",
   "metadata": {},
   "outputs": [],
   "source": [
    "from pywebio.input import *\n",
    "from pywebio.output import *\n",
    "from pywebio.platform.flask import webio_view\n",
    "from flask import Flask\n",
    "app = Flask (__name__) \n",
    "def getstarted():\n",
    "    options_list = [\"Boring\", \"Good\", \"Great\", \"Awesome\", \"Fantastic\"] \n",
    "    answer = actions(\"How is your day?, options list\")\n",
    "    put_markdown ('Ohh! You just clicked the `%s` button.' % answer)\n",
    "    \n",
    "app.add_url_rule('/pywebio', 'webio_view', webio_view(getStarted), methods=['GET', 'POST', 'OPTIONS'])\n",
    "app.run(host='localhost', port=80)"
   ]
  },
  {
   "cell_type": "code",
   "execution_count": null,
   "id": "6ae45491",
   "metadata": {},
   "outputs": [],
   "source": []
  }
 ],
 "metadata": {
  "kernelspec": {
   "display_name": "Python 3 (ipykernel)",
   "language": "python",
   "name": "python3"
  },
  "language_info": {
   "codemirror_mode": {
    "name": "ipython",
    "version": 3
   },
   "file_extension": ".py",
   "mimetype": "text/x-python",
   "name": "python",
   "nbconvert_exporter": "python",
   "pygments_lexer": "ipython3",
   "version": "3.9.13"
  }
 },
 "nbformat": 4,
 "nbformat_minor": 5
}
